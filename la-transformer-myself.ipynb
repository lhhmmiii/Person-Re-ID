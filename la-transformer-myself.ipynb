<<<<<<< HEAD
{
 "cells": [
  {
   "cell_type": "markdown",
   "metadata": {},
   "source": [
    "# 1. Import library"
   ]
  },
  {
   "cell_type": "code",
   "execution_count": 1,
   "metadata": {
    "execution": {
     "iopub.execute_input": "2024-05-13T02:09:20.819180Z",
     "iopub.status.busy": "2024-05-13T02:09:20.818533Z",
     "iopub.status.idle": "2024-05-13T02:09:28.168717Z",
     "shell.execute_reply": "2024-05-13T02:09:28.167878Z",
     "shell.execute_reply.started": "2024-05-13T02:09:20.819147Z"
    }
   },
   "outputs": [],
   "source": [
    "# Regarding pytorch\n",
    "import torch\n",
    "import torch.nn as nn\n",
    "import torch.nn.functional as F\n",
    "from torch.utils.data import Dataset, DataLoader\n",
    "from torchvision import transforms\n",
    "import torch.optim as optim\n",
    "# Other\n",
    "import timm\n",
    "import numpy as np\n",
    "import matplotlib.pyplot as plt\n",
    "from PIL import Image\n",
    "from tqdm.notebook import tqdm\n",
    "import os\n",
    "from sklearn.model_selection import train_test_split"
   ]
  },
  {
   "cell_type": "markdown",
   "metadata": {},
   "source": [
    "# 2. Dataset"
   ]
  },
  {
   "cell_type": "code",
   "execution_count": 2,
   "metadata": {
    "execution": {
     "iopub.execute_input": "2024-05-13T02:09:28.170538Z",
     "iopub.status.busy": "2024-05-13T02:09:28.170264Z",
     "iopub.status.idle": "2024-05-13T02:09:28.174895Z",
     "shell.execute_reply": "2024-05-13T02:09:28.173908Z",
     "shell.execute_reply.started": "2024-05-13T02:09:28.170515Z"
    }
   },
   "outputs": [],
   "source": [
    "train_path = '/kaggle/input/market-dataset-2/Market-Pytorch/Market/train/'\n",
    "val_path = '/kaggle/input/market-dataset-2/Market-Pytorch/Market/val/'"
   ]
  },
  {
   "cell_type": "code",
   "execution_count": 3,
   "metadata": {
    "execution": {
     "iopub.execute_input": "2024-05-13T02:09:28.176252Z",
     "iopub.status.busy": "2024-05-13T02:09:28.175984Z",
     "iopub.status.idle": "2024-05-13T02:09:28.185276Z",
     "shell.execute_reply": "2024-05-13T02:09:28.184379Z",
     "shell.execute_reply.started": "2024-05-13T02:09:28.176230Z"
    }
   },
   "outputs": [],
   "source": [
    "def extractImageandLabel(path):\n",
    "    # Trích xuất ảnh, label và class(label là từ 0 -> 751, class là phụ thuộc vào dataset)\n",
    "    list_subfolder = os.listdir(path)\n",
    "    list_images = []\n",
    "    list_classes = []\n",
    "    list_labels = []\n",
    "    for i, subfolder in enumerate(list_subfolder):\n",
    "        _class = int(subfolder) # Class của đối tượng\n",
    "        sub_path = path + subfolder + '/' # Đường dẫn đến folder chứa các ảnh thuộc cùng 1 class\n",
    "        list_image_names = os.listdir(sub_path) # Tên các ảnh của folder ở trên\n",
    "        list_image_paths = [sub_path + name for name in list_image_names] # Đường dẫn tới các ảnh đó\n",
    "        for image_path in list_image_paths:\n",
    "            image = Image.open(image_path)\n",
    "            list_images.append(image)\n",
    "            list_classes.append(_class)\n",
    "            list_labels.append(i)\n",
    "    return list_images, list_classes, list_labels"
   ]
  },
  {
   "cell_type": "code",
   "execution_count": 4,
   "metadata": {
    "execution": {
     "iopub.execute_input": "2024-05-13T02:09:28.187525Z",
     "iopub.status.busy": "2024-05-13T02:09:28.187253Z",
     "iopub.status.idle": "2024-05-13T02:10:16.970856Z",
     "shell.execute_reply": "2024-05-13T02:10:16.970043Z",
     "shell.execute_reply.started": "2024-05-13T02:09:28.187499Z"
    }
   },
   "outputs": [],
   "source": [
    "train_list_images, train_list_classes, train_list_labels = extractImageandLabel(train_path)"
   ]
  },
  {
   "cell_type": "code",
   "execution_count": 5,
   "metadata": {
    "execution": {
     "iopub.execute_input": "2024-05-13T02:10:16.972211Z",
     "iopub.status.busy": "2024-05-13T02:10:16.971900Z",
     "iopub.status.idle": "2024-05-13T02:10:22.007950Z",
     "shell.execute_reply": "2024-05-13T02:10:22.006930Z",
     "shell.execute_reply.started": "2024-05-13T02:10:16.972187Z"
    }
   },
   "outputs": [],
   "source": [
    "val_list_images, val_list_classes, val_list_labels = extractImageandLabel(val_path)"
   ]
  },
  {
   "cell_type": "code",
   "execution_count": 6,
   "metadata": {
    "execution": {
     "iopub.execute_input": "2024-05-13T02:10:22.010182Z",
     "iopub.status.busy": "2024-05-13T02:10:22.009368Z",
     "iopub.status.idle": "2024-05-13T02:10:22.016912Z",
     "shell.execute_reply": "2024-05-13T02:10:22.016003Z",
     "shell.execute_reply.started": "2024-05-13T02:10:22.010111Z"
    }
   },
   "outputs": [
    {
     "name": "stdout",
     "output_type": "stream",
     "text": [
      "Số lượng ảnh ở tập train:  12185\n",
      "Số lượng lớp ở tập train:  751\n",
      "Số lượng ảnh ở tập val:  751\n",
      "Số lượng lớp ở tập val:  751\n"
     ]
    }
   ],
   "source": [
    "print('Số lượng ảnh ở tập train: ', len(train_list_images))\n",
    "print('Số lượng lớp ở tập train: ', len(set(train_list_classes)))\n",
    "print('Số lượng ảnh ở tập val: ', len(val_list_images))\n",
    "print('Số lượng lớp ở tập val: ', len(set(val_list_classes)))"
   ]
  },
  {
   "cell_type": "code",
   "execution_count": 7,
   "metadata": {
    "execution": {
     "iopub.execute_input": "2024-05-13T02:10:22.018453Z",
     "iopub.status.busy": "2024-05-13T02:10:22.018039Z",
     "iopub.status.idle": "2024-05-13T02:10:22.030304Z",
     "shell.execute_reply": "2024-05-13T02:10:22.029554Z",
     "shell.execute_reply.started": "2024-05-13T02:10:22.018423Z"
    }
   },
   "outputs": [],
   "source": [
    "transform_train_list = [\n",
    "    transforms.Resize((224,224), interpolation= 3), # Đưa tất cả các ảnh về kích thước (224,224)\n",
    "    transforms.ToTensor(),\n",
    "    transforms.RandomHorizontalFlip(), #  Xoay dọc 50% số ảnh để chống overfitting\n",
    "#     transforms.Normalize(mean=[0.485, 0.456, 0.406], std=[0.229, 0.224, 0.225])\n",
    "]\n",
    "transform_val_list = [\n",
    "    transforms.Resize((224, 224), interpolation= 3),\n",
    "    transforms.ToTensor(),\n",
    "#     transforms.Normalize(mean=[0.485, 0.456, 0.406], std=[0.229, 0.224, 0.225])\n",
    "]\n",
    "data_transforms = [\n",
    "    transforms.Compose(transform_train_list), # train\n",
    "    transforms.Compose(transform_val_list) # val\n",
    "]"
   ]
  },
  {
   "cell_type": "code",
   "execution_count": 8,
   "metadata": {
    "execution": {
     "iopub.execute_input": "2024-05-13T02:10:22.031957Z",
     "iopub.status.busy": "2024-05-13T02:10:22.031415Z",
     "iopub.status.idle": "2024-05-13T02:10:22.040881Z",
     "shell.execute_reply": "2024-05-13T02:10:22.040176Z",
     "shell.execute_reply.started": "2024-05-13T02:10:22.031928Z"
    }
   },
   "outputs": [],
   "source": [
    "class TrainValDataset(Dataset):\n",
    "    def __init__(self, list_images, list_labels, data_transforms, is_train = True):\n",
    "        self.list_images = list_images\n",
    "        self.list_labels = list_labels\n",
    "        self.data_transforms = data_transforms\n",
    "        self.is_train = is_train\n",
    "    def __len__(self):\n",
    "        return len(self.list_images)\n",
    "    def __getitem__(self, idx):\n",
    "        label = self.list_labels[idx] # label\n",
    "        # Image\n",
    "        image = self.list_images[idx] # ảnh\n",
    "        transform = self.data_transforms[0] # ảnh sau khi tranforms\n",
    "        if not self.is_train:\n",
    "            transform = self.data_transforms[1]\n",
    "        image = transform(image)\n",
    "        return image, label"
   ]
  },
  {
   "cell_type": "code",
   "execution_count": 9,
   "metadata": {
    "execution": {
     "iopub.execute_input": "2024-05-13T02:10:22.042118Z",
     "iopub.status.busy": "2024-05-13T02:10:22.041864Z",
     "iopub.status.idle": "2024-05-13T02:10:22.048791Z",
     "shell.execute_reply": "2024-05-13T02:10:22.048089Z",
     "shell.execute_reply.started": "2024-05-13T02:10:22.042097Z"
    }
   },
   "outputs": [],
   "source": [
    "train_dataset = TrainValDataset(train_list_images, train_list_labels, data_transforms)\n",
    "val_dataset = TrainValDataset(val_list_images, val_list_labels, data_transforms, is_train = False)"
   ]
  },
  {
   "cell_type": "code",
   "execution_count": 10,
   "metadata": {
    "execution": {
     "iopub.execute_input": "2024-05-13T02:10:22.052054Z",
     "iopub.status.busy": "2024-05-13T02:10:22.051770Z",
     "iopub.status.idle": "2024-05-13T02:10:22.057423Z",
     "shell.execute_reply": "2024-05-13T02:10:22.056582Z",
     "shell.execute_reply.started": "2024-05-13T02:10:22.052027Z"
    }
   },
   "outputs": [],
   "source": [
    "train_loader = DataLoader(train_dataset, shuffle = True, batch_size = 32)\n",
    "val_loader = DataLoader(val_dataset, shuffle = True, batch_size = 32)"
   ]
  },
  {
   "cell_type": "code",
   "execution_count": 11,
   "metadata": {
    "execution": {
     "iopub.execute_input": "2024-05-13T02:10:22.058652Z",
     "iopub.status.busy": "2024-05-13T02:10:22.058365Z",
     "iopub.status.idle": "2024-05-13T02:10:22.234221Z",
     "shell.execute_reply": "2024-05-13T02:10:22.233262Z",
     "shell.execute_reply.started": "2024-05-13T02:10:22.058622Z"
    }
   },
   "outputs": [],
   "source": [
    "a, b = next(iter(train_loader)) # Dùng để kiểm tra code TrainValDataset chạy đúng không"
   ]
  },
  {
   "cell_type": "markdown",
   "metadata": {},
   "source": [
    "# 3. Model"
   ]
  },
  {
   "cell_type": "code",
   "execution_count": 12,
   "metadata": {
    "execution": {
     "iopub.execute_input": "2024-05-13T02:10:22.236238Z",
     "iopub.status.busy": "2024-05-13T02:10:22.235517Z",
     "iopub.status.idle": "2024-05-13T02:10:22.263865Z",
     "shell.execute_reply": "2024-05-13T02:10:22.262947Z",
     "shell.execute_reply.started": "2024-05-13T02:10:22.236201Z"
    }
   },
   "outputs": [
    {
     "data": {
      "text/plain": [
       "device(type='cuda', index=0)"
      ]
     },
     "execution_count": 12,
     "metadata": {},
     "output_type": "execute_result"
    }
   ],
   "source": [
    "# Kiếm tra xem thử có GPU hay không, nếu có thì kết quả trả về là \"device(type='cuda', index=0)\"\n",
    "device = torch.device(\"cuda:0\" if torch.cuda.is_available() else \"cpu\") \n",
    "device"
   ]
  },
  {
   "cell_type": "code",
   "execution_count": 13,
   "metadata": {
    "execution": {
     "iopub.execute_input": "2024-05-13T02:10:22.265449Z",
     "iopub.status.busy": "2024-05-13T02:10:22.265077Z",
     "iopub.status.idle": "2024-05-13T02:10:25.655420Z",
     "shell.execute_reply": "2024-05-13T02:10:25.654516Z",
     "shell.execute_reply.started": "2024-05-13T02:10:22.265418Z"
    }
   },
   "outputs": [
    {
     "data": {
      "application/vnd.jupyter.widget-view+json": {
       "model_id": "52ec47c5edf34d68a7cda7263876fc6a",
       "version_major": 2,
       "version_minor": 0
      },
      "text/plain": [
       "model.safetensors:   0%|          | 0.00/346M [00:00<?, ?B/s]"
      ]
     },
     "metadata": {},
     "output_type": "display_data"
    },
    {
     "data": {
      "text/plain": [
       "VisionTransformer(\n",
       "  (patch_embed): PatchEmbed(\n",
       "    (proj): Conv2d(3, 768, kernel_size=(16, 16), stride=(16, 16))\n",
       "    (norm): Identity()\n",
       "  )\n",
       "  (pos_drop): Dropout(p=0.0, inplace=False)\n",
       "  (patch_drop): Identity()\n",
       "  (norm_pre): Identity()\n",
       "  (blocks): Sequential(\n",
       "    (0): Block(\n",
       "      (norm1): LayerNorm((768,), eps=1e-06, elementwise_affine=True)\n",
       "      (attn): Attention(\n",
       "        (qkv): Linear(in_features=768, out_features=2304, bias=True)\n",
       "        (q_norm): Identity()\n",
       "        (k_norm): Identity()\n",
       "        (attn_drop): Dropout(p=0.0, inplace=False)\n",
       "        (proj): Linear(in_features=768, out_features=768, bias=True)\n",
       "        (proj_drop): Dropout(p=0.0, inplace=False)\n",
       "      )\n",
       "      (ls1): Identity()\n",
       "      (drop_path1): Identity()\n",
       "      (norm2): LayerNorm((768,), eps=1e-06, elementwise_affine=True)\n",
       "      (mlp): Mlp(\n",
       "        (fc1): Linear(in_features=768, out_features=3072, bias=True)\n",
       "        (act): GELU(approximate='none')\n",
       "        (drop1): Dropout(p=0.0, inplace=False)\n",
       "        (norm): Identity()\n",
       "        (fc2): Linear(in_features=3072, out_features=768, bias=True)\n",
       "        (drop2): Dropout(p=0.0, inplace=False)\n",
       "      )\n",
       "      (ls2): Identity()\n",
       "      (drop_path2): Identity()\n",
       "    )\n",
       "    (1): Block(\n",
       "      (norm1): LayerNorm((768,), eps=1e-06, elementwise_affine=True)\n",
       "      (attn): Attention(\n",
       "        (qkv): Linear(in_features=768, out_features=2304, bias=True)\n",
       "        (q_norm): Identity()\n",
       "        (k_norm): Identity()\n",
       "        (attn_drop): Dropout(p=0.0, inplace=False)\n",
       "        (proj): Linear(in_features=768, out_features=768, bias=True)\n",
       "        (proj_drop): Dropout(p=0.0, inplace=False)\n",
       "      )\n",
       "      (ls1): Identity()\n",
       "      (drop_path1): Identity()\n",
       "      (norm2): LayerNorm((768,), eps=1e-06, elementwise_affine=True)\n",
       "      (mlp): Mlp(\n",
       "        (fc1): Linear(in_features=768, out_features=3072, bias=True)\n",
       "        (act): GELU(approximate='none')\n",
       "        (drop1): Dropout(p=0.0, inplace=False)\n",
       "        (norm): Identity()\n",
       "        (fc2): Linear(in_features=3072, out_features=768, bias=True)\n",
       "        (drop2): Dropout(p=0.0, inplace=False)\n",
       "      )\n",
       "      (ls2): Identity()\n",
       "      (drop_path2): Identity()\n",
       "    )\n",
       "    (2): Block(\n",
       "      (norm1): LayerNorm((768,), eps=1e-06, elementwise_affine=True)\n",
       "      (attn): Attention(\n",
       "        (qkv): Linear(in_features=768, out_features=2304, bias=True)\n",
       "        (q_norm): Identity()\n",
       "        (k_norm): Identity()\n",
       "        (attn_drop): Dropout(p=0.0, inplace=False)\n",
       "        (proj): Linear(in_features=768, out_features=768, bias=True)\n",
       "        (proj_drop): Dropout(p=0.0, inplace=False)\n",
       "      )\n",
       "      (ls1): Identity()\n",
       "      (drop_path1): Identity()\n",
       "      (norm2): LayerNorm((768,), eps=1e-06, elementwise_affine=True)\n",
       "      (mlp): Mlp(\n",
       "        (fc1): Linear(in_features=768, out_features=3072, bias=True)\n",
       "        (act): GELU(approximate='none')\n",
       "        (drop1): Dropout(p=0.0, inplace=False)\n",
       "        (norm): Identity()\n",
       "        (fc2): Linear(in_features=3072, out_features=768, bias=True)\n",
       "        (drop2): Dropout(p=0.0, inplace=False)\n",
       "      )\n",
       "      (ls2): Identity()\n",
       "      (drop_path2): Identity()\n",
       "    )\n",
       "    (3): Block(\n",
       "      (norm1): LayerNorm((768,), eps=1e-06, elementwise_affine=True)\n",
       "      (attn): Attention(\n",
       "        (qkv): Linear(in_features=768, out_features=2304, bias=True)\n",
       "        (q_norm): Identity()\n",
       "        (k_norm): Identity()\n",
       "        (attn_drop): Dropout(p=0.0, inplace=False)\n",
       "        (proj): Linear(in_features=768, out_features=768, bias=True)\n",
       "        (proj_drop): Dropout(p=0.0, inplace=False)\n",
       "      )\n",
       "      (ls1): Identity()\n",
       "      (drop_path1): Identity()\n",
       "      (norm2): LayerNorm((768,), eps=1e-06, elementwise_affine=True)\n",
       "      (mlp): Mlp(\n",
       "        (fc1): Linear(in_features=768, out_features=3072, bias=True)\n",
       "        (act): GELU(approximate='none')\n",
       "        (drop1): Dropout(p=0.0, inplace=False)\n",
       "        (norm): Identity()\n",
       "        (fc2): Linear(in_features=3072, out_features=768, bias=True)\n",
       "        (drop2): Dropout(p=0.0, inplace=False)\n",
       "      )\n",
       "      (ls2): Identity()\n",
       "      (drop_path2): Identity()\n",
       "    )\n",
       "    (4): Block(\n",
       "      (norm1): LayerNorm((768,), eps=1e-06, elementwise_affine=True)\n",
       "      (attn): Attention(\n",
       "        (qkv): Linear(in_features=768, out_features=2304, bias=True)\n",
       "        (q_norm): Identity()\n",
       "        (k_norm): Identity()\n",
       "        (attn_drop): Dropout(p=0.0, inplace=False)\n",
       "        (proj): Linear(in_features=768, out_features=768, bias=True)\n",
       "        (proj_drop): Dropout(p=0.0, inplace=False)\n",
       "      )\n",
       "      (ls1): Identity()\n",
       "      (drop_path1): Identity()\n",
       "      (norm2): LayerNorm((768,), eps=1e-06, elementwise_affine=True)\n",
       "      (mlp): Mlp(\n",
       "        (fc1): Linear(in_features=768, out_features=3072, bias=True)\n",
       "        (act): GELU(approximate='none')\n",
       "        (drop1): Dropout(p=0.0, inplace=False)\n",
       "        (norm): Identity()\n",
       "        (fc2): Linear(in_features=3072, out_features=768, bias=True)\n",
       "        (drop2): Dropout(p=0.0, inplace=False)\n",
       "      )\n",
       "      (ls2): Identity()\n",
       "      (drop_path2): Identity()\n",
       "    )\n",
       "    (5): Block(\n",
       "      (norm1): LayerNorm((768,), eps=1e-06, elementwise_affine=True)\n",
       "      (attn): Attention(\n",
       "        (qkv): Linear(in_features=768, out_features=2304, bias=True)\n",
       "        (q_norm): Identity()\n",
       "        (k_norm): Identity()\n",
       "        (attn_drop): Dropout(p=0.0, inplace=False)\n",
       "        (proj): Linear(in_features=768, out_features=768, bias=True)\n",
       "        (proj_drop): Dropout(p=0.0, inplace=False)\n",
       "      )\n",
       "      (ls1): Identity()\n",
       "      (drop_path1): Identity()\n",
       "      (norm2): LayerNorm((768,), eps=1e-06, elementwise_affine=True)\n",
       "      (mlp): Mlp(\n",
       "        (fc1): Linear(in_features=768, out_features=3072, bias=True)\n",
       "        (act): GELU(approximate='none')\n",
       "        (drop1): Dropout(p=0.0, inplace=False)\n",
       "        (norm): Identity()\n",
       "        (fc2): Linear(in_features=3072, out_features=768, bias=True)\n",
       "        (drop2): Dropout(p=0.0, inplace=False)\n",
       "      )\n",
       "      (ls2): Identity()\n",
       "      (drop_path2): Identity()\n",
       "    )\n",
       "    (6): Block(\n",
       "      (norm1): LayerNorm((768,), eps=1e-06, elementwise_affine=True)\n",
       "      (attn): Attention(\n",
       "        (qkv): Linear(in_features=768, out_features=2304, bias=True)\n",
       "        (q_norm): Identity()\n",
       "        (k_norm): Identity()\n",
       "        (attn_drop): Dropout(p=0.0, inplace=False)\n",
       "        (proj): Linear(in_features=768, out_features=768, bias=True)\n",
       "        (proj_drop): Dropout(p=0.0, inplace=False)\n",
       "      )\n",
       "      (ls1): Identity()\n",
       "      (drop_path1): Identity()\n",
       "      (norm2): LayerNorm((768,), eps=1e-06, elementwise_affine=True)\n",
       "      (mlp): Mlp(\n",
       "        (fc1): Linear(in_features=768, out_features=3072, bias=True)\n",
       "        (act): GELU(approximate='none')\n",
       "        (drop1): Dropout(p=0.0, inplace=False)\n",
       "        (norm): Identity()\n",
       "        (fc2): Linear(in_features=3072, out_features=768, bias=True)\n",
       "        (drop2): Dropout(p=0.0, inplace=False)\n",
       "      )\n",
       "      (ls2): Identity()\n",
       "      (drop_path2): Identity()\n",
       "    )\n",
       "    (7): Block(\n",
       "      (norm1): LayerNorm((768,), eps=1e-06, elementwise_affine=True)\n",
       "      (attn): Attention(\n",
       "        (qkv): Linear(in_features=768, out_features=2304, bias=True)\n",
       "        (q_norm): Identity()\n",
       "        (k_norm): Identity()\n",
       "        (attn_drop): Dropout(p=0.0, inplace=False)\n",
       "        (proj): Linear(in_features=768, out_features=768, bias=True)\n",
       "        (proj_drop): Dropout(p=0.0, inplace=False)\n",
       "      )\n",
       "      (ls1): Identity()\n",
       "      (drop_path1): Identity()\n",
       "      (norm2): LayerNorm((768,), eps=1e-06, elementwise_affine=True)\n",
       "      (mlp): Mlp(\n",
       "        (fc1): Linear(in_features=768, out_features=3072, bias=True)\n",
       "        (act): GELU(approximate='none')\n",
       "        (drop1): Dropout(p=0.0, inplace=False)\n",
       "        (norm): Identity()\n",
       "        (fc2): Linear(in_features=3072, out_features=768, bias=True)\n",
       "        (drop2): Dropout(p=0.0, inplace=False)\n",
       "      )\n",
       "      (ls2): Identity()\n",
       "      (drop_path2): Identity()\n",
       "    )\n",
       "    (8): Block(\n",
       "      (norm1): LayerNorm((768,), eps=1e-06, elementwise_affine=True)\n",
       "      (attn): Attention(\n",
       "        (qkv): Linear(in_features=768, out_features=2304, bias=True)\n",
       "        (q_norm): Identity()\n",
       "        (k_norm): Identity()\n",
       "        (attn_drop): Dropout(p=0.0, inplace=False)\n",
       "        (proj): Linear(in_features=768, out_features=768, bias=True)\n",
       "        (proj_drop): Dropout(p=0.0, inplace=False)\n",
       "      )\n",
       "      (ls1): Identity()\n",
       "      (drop_path1): Identity()\n",
       "      (norm2): LayerNorm((768,), eps=1e-06, elementwise_affine=True)\n",
       "      (mlp): Mlp(\n",
       "        (fc1): Linear(in_features=768, out_features=3072, bias=True)\n",
       "        (act): GELU(approximate='none')\n",
       "        (drop1): Dropout(p=0.0, inplace=False)\n",
       "        (norm): Identity()\n",
       "        (fc2): Linear(in_features=3072, out_features=768, bias=True)\n",
       "        (drop2): Dropout(p=0.0, inplace=False)\n",
       "      )\n",
       "      (ls2): Identity()\n",
       "      (drop_path2): Identity()\n",
       "    )\n",
       "    (9): Block(\n",
       "      (norm1): LayerNorm((768,), eps=1e-06, elementwise_affine=True)\n",
       "      (attn): Attention(\n",
       "        (qkv): Linear(in_features=768, out_features=2304, bias=True)\n",
       "        (q_norm): Identity()\n",
       "        (k_norm): Identity()\n",
       "        (attn_drop): Dropout(p=0.0, inplace=False)\n",
       "        (proj): Linear(in_features=768, out_features=768, bias=True)\n",
       "        (proj_drop): Dropout(p=0.0, inplace=False)\n",
       "      )\n",
       "      (ls1): Identity()\n",
       "      (drop_path1): Identity()\n",
       "      (norm2): LayerNorm((768,), eps=1e-06, elementwise_affine=True)\n",
       "      (mlp): Mlp(\n",
       "        (fc1): Linear(in_features=768, out_features=3072, bias=True)\n",
       "        (act): GELU(approximate='none')\n",
       "        (drop1): Dropout(p=0.0, inplace=False)\n",
       "        (norm): Identity()\n",
       "        (fc2): Linear(in_features=3072, out_features=768, bias=True)\n",
       "        (drop2): Dropout(p=0.0, inplace=False)\n",
       "      )\n",
       "      (ls2): Identity()\n",
       "      (drop_path2): Identity()\n",
       "    )\n",
       "    (10): Block(\n",
       "      (norm1): LayerNorm((768,), eps=1e-06, elementwise_affine=True)\n",
       "      (attn): Attention(\n",
       "        (qkv): Linear(in_features=768, out_features=2304, bias=True)\n",
       "        (q_norm): Identity()\n",
       "        (k_norm): Identity()\n",
       "        (attn_drop): Dropout(p=0.0, inplace=False)\n",
       "        (proj): Linear(in_features=768, out_features=768, bias=True)\n",
       "        (proj_drop): Dropout(p=0.0, inplace=False)\n",
       "      )\n",
       "      (ls1): Identity()\n",
       "      (drop_path1): Identity()\n",
       "      (norm2): LayerNorm((768,), eps=1e-06, elementwise_affine=True)\n",
       "      (mlp): Mlp(\n",
       "        (fc1): Linear(in_features=768, out_features=3072, bias=True)\n",
       "        (act): GELU(approximate='none')\n",
       "        (drop1): Dropout(p=0.0, inplace=False)\n",
       "        (norm): Identity()\n",
       "        (fc2): Linear(in_features=3072, out_features=768, bias=True)\n",
       "        (drop2): Dropout(p=0.0, inplace=False)\n",
       "      )\n",
       "      (ls2): Identity()\n",
       "      (drop_path2): Identity()\n",
       "    )\n",
       "    (11): Block(\n",
       "      (norm1): LayerNorm((768,), eps=1e-06, elementwise_affine=True)\n",
       "      (attn): Attention(\n",
       "        (qkv): Linear(in_features=768, out_features=2304, bias=True)\n",
       "        (q_norm): Identity()\n",
       "        (k_norm): Identity()\n",
       "        (attn_drop): Dropout(p=0.0, inplace=False)\n",
       "        (proj): Linear(in_features=768, out_features=768, bias=True)\n",
       "        (proj_drop): Dropout(p=0.0, inplace=False)\n",
       "      )\n",
       "      (ls1): Identity()\n",
       "      (drop_path1): Identity()\n",
       "      (norm2): LayerNorm((768,), eps=1e-06, elementwise_affine=True)\n",
       "      (mlp): Mlp(\n",
       "        (fc1): Linear(in_features=768, out_features=3072, bias=True)\n",
       "        (act): GELU(approximate='none')\n",
       "        (drop1): Dropout(p=0.0, inplace=False)\n",
       "        (norm): Identity()\n",
       "        (fc2): Linear(in_features=3072, out_features=768, bias=True)\n",
       "        (drop2): Dropout(p=0.0, inplace=False)\n",
       "      )\n",
       "      (ls2): Identity()\n",
       "      (drop_path2): Identity()\n",
       "    )\n",
       "  )\n",
       "  (norm): LayerNorm((768,), eps=1e-06, elementwise_affine=True)\n",
       "  (fc_norm): Identity()\n",
       "  (head_drop): Dropout(p=0.0, inplace=False)\n",
       "  (head): Linear(in_features=768, out_features=751, bias=True)\n",
       ")"
      ]
     },
     "execution_count": 13,
     "metadata": {},
     "output_type": "execute_result"
    }
   ],
   "source": [
    "# Load pre-trained ViT\n",
    "vit_base = timm.create_model('vit_base_patch16_224', pretrained=True, num_classes=751)\n",
    "vit_base= vit_base.to(device)\n",
    "vit_base.eval()"
   ]
  },
  {
   "cell_type": "code",
   "execution_count": 14,
   "metadata": {
    "execution": {
     "iopub.execute_input": "2024-05-13T02:10:25.657260Z",
     "iopub.status.busy": "2024-05-13T02:10:25.656842Z",
     "iopub.status.idle": "2024-05-13T02:10:25.664816Z",
     "shell.execute_reply": "2024-05-13T02:10:25.663906Z",
     "shell.execute_reply.started": "2024-05-13T02:10:25.657228Z"
    }
   },
   "outputs": [],
   "source": [
    "# Fully Connected Layer dùng để phân loại\n",
    "class FCLayer(nn.Module):\n",
    "    def __init__(self, input_dim=768, num_bottleneck=512, num_classes=751):\n",
    "        super().__init__()\n",
    "        self.input_dim = input_dim\n",
    "        self.num_bottleneck = num_bottleneck\n",
    "        self.num_classes = num_classes\n",
    "        self.linear1 = nn.Linear(self.input_dim, self.num_bottleneck) # Shape: (768, 512)\n",
    "        self.linear2 = nn.Linear(self.num_bottleneck, self.num_classes) # Shape: (512, 751)\n",
    "        self.ReLU = nn.ReLU() # Hàm kích hoạt relu\n",
    "        self.batch_norm = nn.BatchNorm1d(self.num_bottleneck) # Dùng để chuẩn hóa các giá trị sau khi đi qua hàm kích hoạt\n",
    "        \n",
    "        \n",
    "    def forward(self, x):\n",
    "        x = self.linear1(x)\n",
    "        x = self.ReLU(x)\n",
    "        x = self.batch_norm(x)\n",
    "        x = self.linear2(x)\n",
    "        return x"
   ]
  },
  {
   "cell_type": "code",
   "execution_count": 15,
   "metadata": {
    "execution": {
     "iopub.execute_input": "2024-05-13T02:10:25.666623Z",
     "iopub.status.busy": "2024-05-13T02:10:25.666332Z",
     "iopub.status.idle": "2024-05-13T02:10:25.682925Z",
     "shell.execute_reply": "2024-05-13T02:10:25.682060Z",
     "shell.execute_reply.started": "2024-05-13T02:10:25.666589Z"
    }
   },
   "outputs": [],
   "source": [
    "class LATransformer(nn.Module):\n",
    "    def __init__(self, backbone_model, _lambda):\n",
    "        super().__init__()\n",
    "        self.backbone_model = backbone_model # ViT_Base\n",
    "        self._lambda = _lambda # Siêu tham số trong mô hình\n",
    "        self.avgpool = nn.AdaptiveAvgPool2d((14,768)) # Average Pooling\n",
    "        self.fc_layers = nn.ModuleList([FCLayer() for _ in range(14)]) # Các lớp FC layer\n",
    "        \n",
    "    def forward(self, x):\n",
    "        x = self.backbone_model.patch_embed(x) # Chia ảnh thành các patch với kích thước (16,16) và embedding chúng\n",
    "        cls_token = self.backbone_model.cls_token.expand(x.shape[0], -1, -1) # Khởi tạo giá trị cho cls token\n",
    "        x = torch.cat((cls_token, x), dim=1) # Gắn cls token vào đầu phần embedding(cls token này sẽ chứa giá trị toàn cục sau khi đi qua)\n",
    "        x = self.backbone_model.pos_drop(x + self.backbone_model.pos_embed) # Thêm vào position embedding để nắm giữ thông tin về vị trí các patch được đưa vào\n",
    "\n",
    "        # Đưa qua 12 transformer encoder block\n",
    "        for i in range(12):\n",
    "            x = self.backbone_model.blocks[i](x) \n",
    "        x = self.backbone_model.norm(x) # Chuẩn hóa\n",
    "\n",
    "        # Trích xuất đặc trưng\n",
    "        G = x[:,0,:].unsqueeze(1) # cls\n",
    "        Q = x[:,1:,:] # local feature\n",
    "        # Bổ sung thêm thông tin về đặc trưng toàn cục cho đặc trưng cục bộ\n",
    "        GELT = self.avgpool(Q)\n",
    "        for i in range(14):\n",
    "            out = torch.mul(GELT[:, i, :], self._lambda)\n",
    "            GELT[:,i,:] = torch.div(torch.add(G.squeeze(),out), 1+self._lambda)\n",
    "        # Chia hình ảnh thành 14 phần dọc nằm ngang có kích thước bằng nhau và đưa chúng qua FC layer.\n",
    "        y = []\n",
    "        for i in range(14):\n",
    "            avgGELT = GELT[:,i,:]\n",
    "            y_i = self.fc_layers[i](avgGELT)\n",
    "            y.append(y_i)\n",
    "            \n",
    "        return GELT, y"
   ]
  },
  {
   "cell_type": "code",
   "execution_count": 16,
   "metadata": {
    "execution": {
     "iopub.execute_input": "2024-05-13T02:10:25.684313Z",
     "iopub.status.busy": "2024-05-13T02:10:25.684015Z",
     "iopub.status.idle": "2024-05-13T02:10:26.009529Z",
     "shell.execute_reply": "2024-05-13T02:10:26.008756Z",
     "shell.execute_reply.started": "2024-05-13T02:10:25.684276Z"
    }
   },
   "outputs": [],
   "source": [
    "la_transformer_model = LATransformer(vit_base, 8).to(device)\n",
    "# la_transformer_model.load_state_dict(torch.load('/kaggle/input/epoch-13/model_epoch_13.pth'))\n",
    "CE_loss = nn.CrossEntropyLoss() # Hàm mất mát là cross entropy loss\n",
    "optimizer = optim.Adam(la_transformer_model.parameters(), lr=0.0001) # Dùng thuật toán Adam để cập nhật trọng số mô hình trong bước back propagation."
   ]
  },
  {
   "cell_type": "code",
   "execution_count": 17,
   "metadata": {
    "execution": {
     "iopub.execute_input": "2024-05-13T02:10:26.011256Z",
     "iopub.status.busy": "2024-05-13T02:10:26.010694Z",
     "iopub.status.idle": "2024-05-13T02:10:26.016348Z",
     "shell.execute_reply": "2024-05-13T02:10:26.015325Z",
     "shell.execute_reply.started": "2024-05-13T02:10:26.011224Z"
    }
   },
   "outputs": [],
   "source": [
    "# Đóng băng tất cả các transformer block lại bằng cách set requires_grad = False. Như vậy thì \n",
    "def freeze_all_blocks(model):\n",
    "    num_blocks = 12\n",
    "    for block in model.backbone_model.blocks[:num_blocks]:\n",
    "        for param in block.parameters():\n",
    "            param.requires_grad = False"
   ]
  },
  {
   "cell_type": "code",
   "execution_count": 18,
   "metadata": {
    "execution": {
     "iopub.execute_input": "2024-05-13T02:10:26.018199Z",
     "iopub.status.busy": "2024-05-13T02:10:26.017870Z",
     "iopub.status.idle": "2024-05-13T02:10:26.025724Z",
     "shell.execute_reply": "2024-05-13T02:10:26.024833Z",
     "shell.execute_reply.started": "2024-05-13T02:10:26.018171Z"
    }
   },
   "outputs": [],
   "source": [
    "# Mờ dần dần các block sau epoch cụ thể\n",
    "def unfreeze(model, num_blocks, remaining_count):\n",
    "    block = model.backbone_model.blocks[remaining_count - 1]\n",
    "    for param in block.parameters():\n",
    "        param.requires_grad = True"
   ]
  },
  {
   "cell_type": "markdown",
   "metadata": {},
   "source": [
    "# 4. Train"
   ]
  },
  {
   "cell_type": "code",
   "execution_count": 19,
   "metadata": {
    "execution": {
     "iopub.execute_input": "2024-05-13T01:49:23.571981Z",
     "iopub.status.busy": "2024-05-13T01:49:23.571188Z",
     "iopub.status.idle": "2024-05-13T01:49:23.580805Z",
     "shell.execute_reply": "2024-05-13T01:49:23.579950Z",
     "shell.execute_reply.started": "2024-05-13T01:49:23.571958Z"
    }
   },
   "outputs": [],
   "source": [
    "# Train không dùng block wise\n",
    "def train(model, train_loader, num_epochs):\n",
    "    softmax = nn.Softmax(dim = 1) # Tính score cho vấn đề phân loại\n",
    "    for epoch in range(num_epochs):\n",
    "        model.train() \n",
    "        correct = 0 # Số lượng label được dựa đoán đúng trên tập train ở mỗi epoch\n",
    "        total_loss = 0 # Tổng loss sau mỗi epoch\n",
    "        for image, label in tqdm(train_loader):\n",
    "            optimizer.zero_grad() # Xóa các gradient cũ\n",
    "            image, label = image.to(device), label.to(device)\n",
    "            _, outputs = model(image) # Output của mô hình\n",
    "            score = 0\n",
    "            loss = 0.0\n",
    "            for output in outputs:\n",
    "                score += softmax(output) # Tính score cho mỗi label\n",
    "                loss += CE_loss(output, label)\n",
    "            total_loss += loss.item()\n",
    "            #\n",
    "            loss.backward() # Tính toán gradient \n",
    "            optimizer.step() # Cập nhật trọng số\n",
    "            #\n",
    "            pred = torch.argmax(score, dim = 1) # Chọn label có score cao nhất\n",
    "            correct += (pred == label).sum()\n",
    "            #\n",
    "        avg_loss = total_loss/len(train_list_images)\n",
    "        file_path = f'/kaggle/working/model_epoch_{epoch}.pth'\n",
    "        torch.save(model.state_dict(), file_path)\n",
    "        print(f'Epoch {epoch}: Loss: {avg_loss} Train_accuracy: {correct/len(train_list_images)}')"
   ]
  },
  {
   "cell_type": "code",
   "execution_count": 23,
   "metadata": {
    "execution": {
     "iopub.execute_input": "2024-05-13T01:59:16.043218Z",
     "iopub.status.busy": "2024-05-13T01:59:16.042866Z",
     "iopub.status.idle": "2024-05-13T01:59:16.047401Z",
     "shell.execute_reply": "2024-05-13T01:59:16.046358Z",
     "shell.execute_reply.started": "2024-05-13T01:59:16.043190Z"
    }
   },
   "outputs": [],
   "source": [
    "train(la_transformer_model, train_loader, 26)"
   ]
  },
  {
   "cell_type": "code",
   "execution_count": 19,
   "metadata": {
    "execution": {
     "iopub.execute_input": "2024-05-13T02:10:26.027752Z",
     "iopub.status.busy": "2024-05-13T02:10:26.027307Z",
     "iopub.status.idle": "2024-05-13T02:10:26.037725Z",
     "shell.execute_reply": "2024-05-13T02:10:26.036928Z",
     "shell.execute_reply.started": "2024-05-13T02:10:26.027722Z"
    }
   },
   "outputs": [],
   "source": [
    "# Train sử dụng block wise\n",
    "def train_with_blockwise(model, train_loader, num_epochs, t = 2, lr_decay = 0.85):\n",
    "    softmax = nn.Softmax(dim = 1)\n",
    "    freeze_all_blocks(model)\n",
    "    count = 0\n",
    "    for epoch in range(num_epochs):\n",
    "        model.train()\n",
    "        if epoch > 0 and epoch % t ==0:\n",
    "            count += 1\n",
    "            remaining_cout = 12 - count\n",
    "            unfreeze(model, 12, remaining_cout)\n",
    "            optimizer.param_groups[0]['lr'] *= lr_decay\n",
    "        correct = 0\n",
    "        total_loss = 0\n",
    "        for image, label in tqdm(train_loader):\n",
    "            optimizer.zero_grad()\n",
    "            image, label = image.to(device), label.to(device)\n",
    "            _, outputs = model(image)\n",
    "            score = 0\n",
    "            loss = 0.0\n",
    "            for output in outputs:\n",
    "                score += softmax(output)\n",
    "                loss += CE_loss(output, label)\n",
    "            total_loss += loss.item()\n",
    "            #\n",
    "            loss.backward()\n",
    "            optimizer.step()\n",
    "            #\n",
    "            pred = torch.argmax(score, dim = 1)\n",
    "            correct += (pred == label).sum()\n",
    "            #\n",
    "        avg_loss = total_loss/len(train_list_images)\n",
    "        file_path = f'/kaggle/working/model_epoch_{epoch}.pth'\n",
    "        torch.save(model.state_dict(), file_path)\n",
    "        print(f'Epoch {epoch}: Loss: {avg_loss} Train_accuracy: {correct/len(train_list_images)}')"
   ]
  },
  {
   "cell_type": "code",
   "execution_count": 20,
   "metadata": {
    "execution": {
     "iopub.execute_input": "2024-05-13T02:10:26.038877Z",
     "iopub.status.busy": "2024-05-13T02:10:26.038611Z",
     "iopub.status.idle": "2024-05-13T02:55:27.592234Z",
     "shell.execute_reply": "2024-05-13T02:55:27.590967Z",
     "shell.execute_reply.started": "2024-05-13T02:10:26.038855Z"
    }
   },
   "outputs": [
    {
     "data": {
      "application/vnd.jupyter.widget-view+json": {
       "model_id": "16efa6b5c3594bc6b1c9416dcae83b94",
       "version_major": 2,
       "version_minor": 0
      },
      "text/plain": [
       "  0%|          | 0/381 [00:00<?, ?it/s]"
      ]
     },
     "metadata": {},
     "output_type": "display_data"
    },
    {
     "name": "stdout",
     "output_type": "stream",
     "text": [
      "Epoch 0: Loss: 2.7010577709399923 Train_accuracy: 0.14033648371696472\n"
     ]
    },
    {
     "data": {
      "application/vnd.jupyter.widget-view+json": {
       "model_id": "8ee31006939149ef97dcdcb75e933389",
       "version_major": 2,
       "version_minor": 0
      },
      "text/plain": [
       "  0%|          | 0/381 [00:00<?, ?it/s]"
      ]
     },
     "metadata": {},
     "output_type": "display_data"
    },
    {
     "name": "stdout",
     "output_type": "stream",
     "text": [
      "Epoch 1: Loss: 1.9576733159881956 Train_accuracy: 0.3668444752693176\n"
     ]
    },
    {
     "data": {
      "application/vnd.jupyter.widget-view+json": {
       "model_id": "8ffc2d34f5634c9da622fccb0ddcd9f5",
       "version_major": 2,
       "version_minor": 0
      },
      "text/plain": [
       "  0%|          | 0/381 [00:00<?, ?it/s]"
      ]
     },
     "metadata": {},
     "output_type": "display_data"
    },
    {
     "name": "stdout",
     "output_type": "stream",
     "text": [
      "Epoch 2: Loss: 1.2765064242632604 Train_accuracy: 0.5918752551078796\n"
     ]
    },
    {
     "data": {
      "application/vnd.jupyter.widget-view+json": {
       "model_id": "ae857c4cc3954b1ca3288f725fc8247a",
       "version_major": 2,
       "version_minor": 0
      },
      "text/plain": [
       "  0%|          | 0/381 [00:00<?, ?it/s]"
      ]
     },
     "metadata": {},
     "output_type": "display_data"
    },
    {
     "name": "stdout",
     "output_type": "stream",
     "text": [
      "Epoch 3: Loss: 0.7744344168135902 Train_accuracy: 0.7839967012405396\n"
     ]
    },
    {
     "data": {
      "application/vnd.jupyter.widget-view+json": {
       "model_id": "bdc34f99437648d4a5e413ab62d57bbb",
       "version_major": 2,
       "version_minor": 0
      },
      "text/plain": [
       "  0%|          | 0/381 [00:00<?, ?it/s]"
      ]
     },
     "metadata": {},
     "output_type": "display_data"
    },
    {
     "name": "stdout",
     "output_type": "stream",
     "text": [
      "Epoch 4: Loss: 0.44998359660609216 Train_accuracy: 0.8956093788146973\n"
     ]
    },
    {
     "data": {
      "application/vnd.jupyter.widget-view+json": {
       "model_id": "0fa52446cc944ce897e8cbb7286844a8",
       "version_major": 2,
       "version_minor": 0
      },
      "text/plain": [
       "  0%|          | 0/381 [00:00<?, ?it/s]"
      ]
     },
     "metadata": {},
     "output_type": "display_data"
    },
    {
     "name": "stdout",
     "output_type": "stream",
     "text": [
      "Epoch 5: Loss: 0.24131880092190386 Train_accuracy: 0.9548625349998474\n"
     ]
    },
    {
     "data": {
      "application/vnd.jupyter.widget-view+json": {
       "model_id": "fb440da466344022936e549167992721",
       "version_major": 2,
       "version_minor": 0
      },
      "text/plain": [
       "  0%|          | 0/381 [00:00<?, ?it/s]"
      ]
     },
     "metadata": {},
     "output_type": "display_data"
    },
    {
     "name": "stdout",
     "output_type": "stream",
     "text": [
      "Epoch 6: Loss: 0.12917026336632353 Train_accuracy: 0.9834222197532654\n"
     ]
    },
    {
     "data": {
      "application/vnd.jupyter.widget-view+json": {
       "model_id": "5f703f3da64d459dbce02ae1accc4fe9",
       "version_major": 2,
       "version_minor": 0
      },
      "text/plain": [
       "  0%|          | 0/381 [00:00<?, ?it/s]"
      ]
     },
     "metadata": {},
     "output_type": "display_data"
    },
    {
     "name": "stdout",
     "output_type": "stream",
     "text": [
      "Epoch 7: Loss: 0.06542643361958413 Train_accuracy: 0.9935166239738464\n"
     ]
    },
    {
     "data": {
      "application/vnd.jupyter.widget-view+json": {
       "model_id": "0c8fa7f5a7b143429d85a9597b5e9018",
       "version_major": 2,
       "version_minor": 0
      },
      "text/plain": [
       "  0%|          | 0/381 [00:00<?, ?it/s]"
      ]
     },
     "metadata": {},
     "output_type": "display_data"
    },
    {
     "name": "stdout",
     "output_type": "stream",
     "text": [
      "Epoch 8: Loss: 0.04030054789074728 Train_accuracy: 0.9967993497848511\n"
     ]
    },
    {
     "data": {
      "application/vnd.jupyter.widget-view+json": {
       "model_id": "06a62d6f96a047b8bfa3bd0f2115b153",
       "version_major": 2,
       "version_minor": 0
      },
      "text/plain": [
       "  0%|          | 0/381 [00:00<?, ?it/s]"
      ]
     },
     "metadata": {},
     "output_type": "display_data"
    },
    {
     "name": "stdout",
     "output_type": "stream",
     "text": [
      "Epoch 9: Loss: 0.023884167466243857 Train_accuracy: 0.9990151524543762\n"
     ]
    },
    {
     "data": {
      "application/vnd.jupyter.widget-view+json": {
       "model_id": "df2262ff258744629f910e92255fb936",
       "version_major": 2,
       "version_minor": 0
      },
      "text/plain": [
       "  0%|          | 0/381 [00:00<?, ?it/s]"
      ]
     },
     "metadata": {},
     "output_type": "display_data"
    },
    {
     "name": "stdout",
     "output_type": "stream",
     "text": [
      "Epoch 10: Loss: 0.017358108498935675 Train_accuracy: 0.9992613792419434\n"
     ]
    },
    {
     "data": {
      "application/vnd.jupyter.widget-view+json": {
       "model_id": "1f728346fd2849178e775f7cb20c5ade",
       "version_major": 2,
       "version_minor": 0
      },
      "text/plain": [
       "  0%|          | 0/381 [00:00<?, ?it/s]"
      ]
     },
     "metadata": {},
     "output_type": "display_data"
    },
    {
     "name": "stdout",
     "output_type": "stream",
     "text": [
      "Epoch 11: Loss: 0.01099793986556077 Train_accuracy: 0.9999179244041443\n"
     ]
    },
    {
     "data": {
      "application/vnd.jupyter.widget-view+json": {
       "model_id": "13b165a2fd8e43cca2495c83b28f8549",
       "version_major": 2,
       "version_minor": 0
      },
      "text/plain": [
       "  0%|          | 0/381 [00:00<?, ?it/s]"
      ]
     },
     "metadata": {},
     "output_type": "display_data"
    },
    {
     "name": "stdout",
     "output_type": "stream",
     "text": [
      "Epoch 12: Loss: 0.008066685258681821 Train_accuracy: 1.0\n"
     ]
    },
    {
     "data": {
      "application/vnd.jupyter.widget-view+json": {
       "model_id": "99d5a301c5c546ac822fbc41d3991661",
       "version_major": 2,
       "version_minor": 0
      },
      "text/plain": [
       "  0%|          | 0/381 [00:00<?, ?it/s]"
      ]
     },
     "metadata": {},
     "output_type": "display_data"
    },
    {
     "name": "stderr",
     "output_type": "stream",
     "text": [
      "IOPub message rate exceeded.\n",
      "The notebook server will temporarily stop sending output\n",
      "to the client in order to avoid crashing it.\n",
      "To change this limit, set the config variable\n",
      "`--NotebookApp.iopub_msg_rate_limit`.\n",
      "\n",
      "Current values:\n",
      "NotebookApp.iopub_msg_rate_limit=1000.0 (msgs/sec)\n",
      "NotebookApp.rate_limit_window=3.0 (secs)\n",
      "\n"
     ]
    },
    {
     "ename": "KeyboardInterrupt",
     "evalue": "",
     "output_type": "error",
     "traceback": [
      "\u001b[0;31m---------------------------------------------------------------------------\u001b[0m",
      "\u001b[0;31mKeyboardInterrupt\u001b[0m                         Traceback (most recent call last)",
      "Cell \u001b[0;32mIn[20], line 1\u001b[0m\n\u001b[0;32m----> 1\u001b[0m \u001b[43mtrain_with_blockwise\u001b[49m\u001b[43m(\u001b[49m\u001b[43mla_transformer_model\u001b[49m\u001b[43m,\u001b[49m\u001b[43mtrain_loader\u001b[49m\u001b[43m,\u001b[49m\u001b[43m \u001b[49m\u001b[38;5;241;43m26\u001b[39;49m\u001b[43m)\u001b[49m\n",
      "Cell \u001b[0;32mIn[19], line 24\u001b[0m, in \u001b[0;36mtrain_with_blockwise\u001b[0;34m(model, train_loader, num_epochs, t, lr_decay)\u001b[0m\n\u001b[1;32m     22\u001b[0m     score \u001b[38;5;241m+\u001b[39m\u001b[38;5;241m=\u001b[39m softmax(output)\n\u001b[1;32m     23\u001b[0m     loss \u001b[38;5;241m+\u001b[39m\u001b[38;5;241m=\u001b[39m CE_loss(output, label)\n\u001b[0;32m---> 24\u001b[0m total_loss \u001b[38;5;241m+\u001b[39m\u001b[38;5;241m=\u001b[39m \u001b[43mloss\u001b[49m\u001b[38;5;241;43m.\u001b[39;49m\u001b[43mitem\u001b[49m\u001b[43m(\u001b[49m\u001b[43m)\u001b[49m\n\u001b[1;32m     25\u001b[0m \u001b[38;5;66;03m#\u001b[39;00m\n\u001b[1;32m     26\u001b[0m loss\u001b[38;5;241m.\u001b[39mbackward()\n",
      "\u001b[0;31mKeyboardInterrupt\u001b[0m: "
     ]
    }
   ],
   "source": [
    "train_with_blockwise(la_transformer_model,train_loader, 26)"
   ]
  },
  {
   "cell_type": "markdown",
   "metadata": {},
   "source": [
    "# 5. Validate"
   ]
  },
  {
   "cell_type": "code",
   "execution_count": 21,
   "metadata": {
    "execution": {
     "iopub.execute_input": "2024-05-13T02:55:32.471247Z",
     "iopub.status.busy": "2024-05-13T02:55:32.470882Z",
     "iopub.status.idle": "2024-05-13T02:55:32.478675Z",
     "shell.execute_reply": "2024-05-13T02:55:32.477661Z",
     "shell.execute_reply.started": "2024-05-13T02:55:32.471219Z"
    }
   },
   "outputs": [],
   "source": [
    "def validate(model, val_loader):\n",
    "    correct = 0\n",
    "    total = 751\n",
    "    total_loss = 0\n",
    "    softmax = nn.Softmax(dim = 1)\n",
    "    for image, label in tqdm(val_loader):\n",
    "        image, label = image.to(device), label.to(device)\n",
    "        score = 0\n",
    "        loss = 0\n",
    "        with torch.no_grad():\n",
    "            _, outputs = model(image)\n",
    "            for output in outputs:\n",
    "                score += softmax(output)\n",
    "                loss += CE_loss(output, label)\n",
    "            total_loss += loss.item()\n",
    "            pred = torch.argmax(score, dim = 1)\n",
    "            correct += (pred == label).sum()\n",
    "    avg_loss = total_loss/total\n",
    "    print(f'Loss: {avg_loss} Val_accuracy: {correct/total}')    "
   ]
  },
  {
   "cell_type": "code",
   "execution_count": 22,
   "metadata": {
    "execution": {
     "iopub.execute_input": "2024-05-13T02:55:33.479770Z",
     "iopub.status.busy": "2024-05-13T02:55:33.479425Z",
     "iopub.status.idle": "2024-05-13T02:55:40.962721Z",
     "shell.execute_reply": "2024-05-13T02:55:40.961653Z",
     "shell.execute_reply.started": "2024-05-13T02:55:33.479744Z"
    }
   },
   "outputs": [
    {
     "data": {
      "application/vnd.jupyter.widget-view+json": {
       "model_id": "c93094d3c0f345389554f7dd6231db6f",
       "version_major": 2,
       "version_minor": 0
      },
      "text/plain": [
       "  0%|          | 0/24 [00:00<?, ?it/s]"
      ]
     },
     "metadata": {},
     "output_type": "display_data"
    },
    {
     "name": "stdout",
     "output_type": "stream",
     "text": [
      "Loss: 0.1728384069374176 Val_accuracy: 0.9307589530944824\n"
     ]
    }
   ],
   "source": [
    "validate(la_transformer_model, val_loader)"
   ]
  },
  {
   "cell_type": "code",
   "execution_count": 24,
   "metadata": {
    "execution": {
     "iopub.execute_input": "2024-05-12T01:38:57.629160Z",
     "iopub.status.busy": "2024-05-12T01:38:57.628494Z",
     "iopub.status.idle": "2024-05-12T01:38:57.635354Z",
     "shell.execute_reply": "2024-05-12T01:38:57.634523Z",
     "shell.execute_reply.started": "2024-05-12T01:38:57.629126Z"
    }
   },
   "outputs": [
    {
     "data": {
      "text/html": [
       "<a href='model_epoch_13.pth' target='_blank'>model_epoch_13.pth</a><br>"
      ],
      "text/plain": [
       "/kaggle/working/model_epoch_13.pth"
      ]
     },
     "execution_count": 24,
     "metadata": {},
     "output_type": "execute_result"
    }
   ],
   "source": [
    "# os.chdir(r'/kaggle/working')\n",
    "# from IPython.display import FileLink\n",
    "# FileLink(r'model_epoch_13.pth')"
   ]
  },
  {
   "cell_type": "markdown",
   "metadata": {},
   "source": [
    "# 6. Test"
   ]
  },
  {
   "cell_type": "code",
   "execution_count": 23,
   "metadata": {
    "execution": {
     "iopub.execute_input": "2024-05-13T02:55:51.344172Z",
     "iopub.status.busy": "2024-05-13T02:55:51.343280Z",
     "iopub.status.idle": "2024-05-13T02:55:51.348039Z",
     "shell.execute_reply": "2024-05-13T02:55:51.347094Z",
     "shell.execute_reply.started": "2024-05-13T02:55:51.344140Z"
    }
   },
   "outputs": [],
   "source": [
    "query_path = '/kaggle/input/market-dataset-2/Market-Pytorch/Market/query/'\n",
    "gallery_path = '/kaggle/input/market-dataset-2/Market-Pytorch/Market/gallery/'"
   ]
  },
  {
   "cell_type": "code",
   "execution_count": 24,
   "metadata": {
    "execution": {
     "iopub.execute_input": "2024-05-13T02:55:51.591772Z",
     "iopub.status.busy": "2024-05-13T02:55:51.590923Z",
     "iopub.status.idle": "2024-05-13T02:55:51.843750Z",
     "shell.execute_reply": "2024-05-13T02:55:51.842855Z",
     "shell.execute_reply.started": "2024-05-13T02:55:51.591741Z"
    }
   },
   "outputs": [],
   "source": [
    "# Vì số lượng class của gallery(752) không giống với query(751) nên ta đưa tạo dictionary để lưu trữ chứ không khởi tạo theo thứ tự như train và val ở trên\n",
    "list_subfolder = os.listdir('/kaggle/input/market-dataset-2/Market-Pytorch/Market/gallery/')\n",
    "dictionary = {}\n",
    "for i, subfolder in enumerate(list_subfolder):\n",
    "    _class = int(subfolder)\n",
    "    dictionary[_class] = i"
   ]
  },
  {
   "cell_type": "code",
   "execution_count": 25,
   "metadata": {
    "execution": {
     "iopub.execute_input": "2024-05-13T02:55:51.845302Z",
     "iopub.status.busy": "2024-05-13T02:55:51.845025Z",
     "iopub.status.idle": "2024-05-13T02:55:51.852001Z",
     "shell.execute_reply": "2024-05-13T02:55:51.851089Z",
     "shell.execute_reply.started": "2024-05-13T02:55:51.845278Z"
    }
   },
   "outputs": [],
   "source": [
    "def extractImageandLabelTest(path, dictionary):\n",
    "    list_subfolder = os.listdir(path)\n",
    "    list_images = []\n",
    "    list_labels = []\n",
    "    for i, subfolder in enumerate(list_subfolder):\n",
    "        _class = int(subfolder) # Class của đối tượng\n",
    "        sub_path = path + subfolder + '/' # Đường dẫn đến folder chứa các ảnh thuộc cùng 1 class\n",
    "        list_image_names = os.listdir(sub_path) # Tên các ảnh của folder ở trên\n",
    "        list_image_paths = [sub_path + name for name in list_image_names] # Đường dẫn tới các ảnh đó\n",
    "        for image_path in list_image_paths:\n",
    "            image = Image.open(image_path)\n",
    "            list_images.append(image)   \n",
    "            list_labels.append(dictionary[_class])\n",
    "    return list_images, list_labels"
   ]
  },
  {
   "cell_type": "code",
   "execution_count": 26,
   "metadata": {
    "execution": {
     "iopub.execute_input": "2024-05-13T02:55:52.096961Z",
     "iopub.status.busy": "2024-05-13T02:55:52.096613Z",
     "iopub.status.idle": "2024-05-13T02:57:32.667791Z",
     "shell.execute_reply": "2024-05-13T02:57:32.666939Z",
     "shell.execute_reply.started": "2024-05-13T02:55:52.096933Z"
    }
   },
   "outputs": [],
   "source": [
    "gallery_list_images, gallery_list_labels  = extractImageandLabelTest(gallery_path, dictionary)\n",
    "query_list_images, query_list_labels  = extractImageandLabelTest(query_path, dictionary)"
   ]
  },
  {
   "cell_type": "code",
   "execution_count": 27,
   "metadata": {
    "execution": {
     "iopub.execute_input": "2024-05-13T02:57:32.669722Z",
     "iopub.status.busy": "2024-05-13T02:57:32.669441Z",
     "iopub.status.idle": "2024-05-13T02:57:32.675731Z",
     "shell.execute_reply": "2024-05-13T02:57:32.674798Z",
     "shell.execute_reply.started": "2024-05-13T02:57:32.669698Z"
    }
   },
   "outputs": [
    {
     "name": "stdout",
     "output_type": "stream",
     "text": [
      "Số lượng ảnh trong gallery:  19732\n",
      "Số lượng class trong gallery:  752\n",
      "Số lượng ảnh trong query:  3368\n",
      "Số lượng class trong query:  750\n"
     ]
    }
   ],
   "source": [
    "print('Số lượng ảnh trong gallery: ', len(gallery_list_images))\n",
    "print('Số lượng class trong gallery: ', len(set(gallery_list_labels)))\n",
    "print('Số lượng ảnh trong query: ', len(query_list_images))\n",
    "print('Số lượng class trong query: ', len(set(query_list_labels)))"
   ]
  },
  {
   "cell_type": "code",
   "execution_count": 28,
   "metadata": {
    "execution": {
     "iopub.execute_input": "2024-05-13T02:57:32.677181Z",
     "iopub.status.busy": "2024-05-13T02:57:32.676849Z",
     "iopub.status.idle": "2024-05-13T02:57:32.686664Z",
     "shell.execute_reply": "2024-05-13T02:57:32.685812Z",
     "shell.execute_reply.started": "2024-05-13T02:57:32.677151Z"
    }
   },
   "outputs": [],
   "source": [
    "gallery_dataset = TrainValDataset(gallery_list_images, gallery_list_labels, data_transforms, is_train = False)\n",
    "query_dataset = TrainValDataset(query_list_images, query_list_labels, data_transforms)"
   ]
  },
  {
   "cell_type": "code",
   "execution_count": 29,
   "metadata": {
    "execution": {
     "iopub.execute_input": "2024-05-13T02:57:32.689065Z",
     "iopub.status.busy": "2024-05-13T02:57:32.688788Z",
     "iopub.status.idle": "2024-05-13T02:57:32.696263Z",
     "shell.execute_reply": "2024-05-13T02:57:32.695463Z",
     "shell.execute_reply.started": "2024-05-13T02:57:32.689033Z"
    }
   },
   "outputs": [],
   "source": [
    "query_loader = DataLoader(query_dataset, batch_size = 16, shuffle=False)\n",
    "gallery_loader = DataLoader(gallery_dataset, batch_size = 16, shuffle = False)"
   ]
  },
  {
   "cell_type": "code",
   "execution_count": 30,
   "metadata": {
    "execution": {
     "iopub.execute_input": "2024-05-13T02:57:32.697690Z",
     "iopub.status.busy": "2024-05-13T02:57:32.697401Z",
     "iopub.status.idle": "2024-05-13T02:57:32.706173Z",
     "shell.execute_reply": "2024-05-13T02:57:32.705262Z",
     "shell.execute_reply.started": "2024-05-13T02:57:32.697666Z"
    }
   },
   "outputs": [],
   "source": [
    "# Trích xuất đặc trưng bằng mô hình đã được train ở phía trên.\n",
    "def extract_feature(model, dataloader):\n",
    "    features = torch.FloatTensor().to(device)\n",
    "    for image, label in tqdm(dataloader):\n",
    "        image, label = image.to(device), label.to(device)\n",
    "        with torch.no_grad():\n",
    "            GELT, _ = model(image)\n",
    "            features = torch.cat((features, GELT), dim = 0)\n",
    "    return features"
   ]
  },
  {
   "cell_type": "code",
   "execution_count": 31,
   "metadata": {
    "execution": {
     "iopub.execute_input": "2024-05-13T02:57:32.707603Z",
     "iopub.status.busy": "2024-05-13T02:57:32.707305Z",
     "iopub.status.idle": "2024-05-13T02:59:56.141981Z",
     "shell.execute_reply": "2024-05-13T02:59:56.141133Z",
     "shell.execute_reply.started": "2024-05-13T02:57:32.707565Z"
    }
   },
   "outputs": [
    {
     "data": {
      "application/vnd.jupyter.widget-view+json": {
       "model_id": "10cc580c20054d979e0261f17c19fa37",
       "version_major": 2,
       "version_minor": 0
      },
      "text/plain": [
       "  0%|          | 0/211 [00:00<?, ?it/s]"
      ]
     },
     "metadata": {},
     "output_type": "display_data"
    },
    {
     "data": {
      "application/vnd.jupyter.widget-view+json": {
       "model_id": "25ac1f6c99094909892134bb1847b97a",
       "version_major": 2,
       "version_minor": 0
      },
      "text/plain": [
       "  0%|          | 0/1234 [00:00<?, ?it/s]"
      ]
     },
     "metadata": {},
     "output_type": "display_data"
    }
   ],
   "source": [
    "query_feature = extract_feature(la_transformer_model, query_loader)\n",
    "gallery_feature = extract_feature(la_transformer_model, gallery_loader)"
   ]
  },
  {
   "cell_type": "code",
   "execution_count": 32,
   "metadata": {
    "execution": {
     "iopub.execute_input": "2024-05-13T02:59:56.143586Z",
     "iopub.status.busy": "2024-05-13T02:59:56.143298Z",
     "iopub.status.idle": "2024-05-13T02:59:56.149237Z",
     "shell.execute_reply": "2024-05-13T02:59:56.148196Z",
     "shell.execute_reply.started": "2024-05-13T02:59:56.143556Z"
    }
   },
   "outputs": [],
   "source": [
    "def concatenated_feature(feature):\n",
    "    # Chuẩn hóa các đặc trưng bằng standard normalization và đưa chúng về 1 list\n",
    "    mean = torch.mean(feature, dim=1, keepdim=True).expand_as(feature)\n",
    "    std_dev = torch.std(feature, dim=1, keepdim=True).expand_as(feature)\n",
    "    normalized_feature = (feature - mean) / std_dev\n",
    "    list_feature = [feature.view(-1) for feature in normalized_feature]\n",
    "    return list_feature"
   ]
  },
  {
   "cell_type": "code",
   "execution_count": 33,
   "metadata": {
    "execution": {
     "iopub.execute_input": "2024-05-13T02:59:56.150634Z",
     "iopub.status.busy": "2024-05-13T02:59:56.150330Z",
     "iopub.status.idle": "2024-05-13T02:59:56.292474Z",
     "shell.execute_reply": "2024-05-13T02:59:56.291335Z",
     "shell.execute_reply.started": "2024-05-13T02:59:56.150610Z"
    }
   },
   "outputs": [],
   "source": [
    "concatenated_query_vectors = concatenated_feature(query_feature)\n",
    "concatenated_gallery_vectors = concatenated_feature(gallery_feature)"
   ]
  },
  {
   "cell_type": "code",
   "execution_count": 34,
   "metadata": {
    "execution": {
     "iopub.execute_input": "2024-05-13T02:59:56.294021Z",
     "iopub.status.busy": "2024-05-13T02:59:56.293727Z",
     "iopub.status.idle": "2024-05-13T02:59:56.298888Z",
     "shell.execute_reply": "2024-05-13T02:59:56.298008Z",
     "shell.execute_reply.started": "2024-05-13T02:59:56.293997Z"
    }
   },
   "outputs": [],
   "source": [
    "def rank1(_class, output):\n",
    "    pred_class = output[1]\n",
    "    true_class = np.array(_class)\n",
    "    if _class == pred_class[0][0]:\n",
    "        return True\n",
    "    return False"
   ]
  },
  {
   "cell_type": "code",
   "execution_count": 35,
   "metadata": {
    "execution": {
     "iopub.execute_input": "2024-05-13T02:59:56.302096Z",
     "iopub.status.busy": "2024-05-13T02:59:56.301780Z",
     "iopub.status.idle": "2024-05-13T02:59:56.307769Z",
     "shell.execute_reply": "2024-05-13T02:59:56.306925Z",
     "shell.execute_reply.started": "2024-05-13T02:59:56.302072Z"
    }
   },
   "outputs": [],
   "source": [
    "def rank5(_class, output):\n",
    "    pred_class = output[1]\n",
    "    if _class in pred_class[0][:5]:\n",
    "        return True\n",
    "    return False"
   ]
  },
  {
   "cell_type": "code",
   "execution_count": 36,
   "metadata": {
    "execution": {
     "iopub.execute_input": "2024-05-13T02:59:56.309100Z",
     "iopub.status.busy": "2024-05-13T02:59:56.308840Z",
     "iopub.status.idle": "2024-05-13T02:59:56.318899Z",
     "shell.execute_reply": "2024-05-13T02:59:56.318179Z",
     "shell.execute_reply.started": "2024-05-13T02:59:56.309078Z"
    }
   },
   "outputs": [],
   "source": [
    "def rank10(_class, output):\n",
    "    pred_class = output[1]\n",
    "    if _class in pred_class[0][:10]:\n",
    "        return True\n",
    "    return False"
   ]
  },
  {
   "cell_type": "code",
   "execution_count": 37,
   "metadata": {
    "execution": {
     "iopub.execute_input": "2024-05-13T02:59:56.320258Z",
     "iopub.status.busy": "2024-05-13T02:59:56.319979Z",
     "iopub.status.idle": "2024-05-13T02:59:56.327206Z",
     "shell.execute_reply": "2024-05-13T02:59:56.326336Z",
     "shell.execute_reply.started": "2024-05-13T02:59:56.320235Z"
    }
   },
   "outputs": [],
   "source": [
    "def calc_map(label, output):\n",
    "    count = 0\n",
    "    score = 0\n",
    "    good = 0\n",
    "    for out in output[1][0]:\n",
    "        count += 1\n",
    "        if out==label:\n",
    "            good += 1\n",
    "            score += (good/count)\n",
    "    if good==0:\n",
    "        return 0\n",
    "    return score/good"
   ]
  },
  {
   "cell_type": "code",
   "execution_count": 39,
   "metadata": {
    "execution": {
     "iopub.execute_input": "2024-05-13T03:02:56.687594Z",
     "iopub.status.busy": "2024-05-13T03:02:56.687237Z",
     "iopub.status.idle": "2024-05-13T03:03:13.351015Z",
     "shell.execute_reply": "2024-05-13T03:03:13.350020Z",
     "shell.execute_reply.started": "2024-05-13T03:02:56.687570Z"
    }
   },
   "outputs": [
    {
     "name": "stdout",
     "output_type": "stream",
     "text": [
      "Collecting faiss-gpu\n",
      "  Downloading faiss_gpu-1.7.2-cp310-cp310-manylinux_2_17_x86_64.manylinux2014_x86_64.whl.metadata (1.4 kB)\n",
      "Downloading faiss_gpu-1.7.2-cp310-cp310-manylinux_2_17_x86_64.manylinux2014_x86_64.whl (85.5 MB)\n",
      "\u001b[2K   \u001b[90m━━━━━━━━━━━━━━━━━━━━━━━━━━━━━━━━━━━━━━━━\u001b[0m \u001b[32m85.5/85.5 MB\u001b[0m \u001b[31m18.8 MB/s\u001b[0m eta \u001b[36m0:00:00\u001b[0m:00:01\u001b[0m00:01\u001b[0m\n",
      "\u001b[?25hInstalling collected packages: faiss-gpu\n",
      "Successfully installed faiss-gpu-1.7.2\n"
     ]
    }
   ],
   "source": [
    "!pip install faiss-gpu"
   ]
  },
  {
   "cell_type": "code",
   "execution_count": 40,
   "metadata": {
    "execution": {
     "iopub.execute_input": "2024-05-13T03:03:16.584689Z",
     "iopub.status.busy": "2024-05-13T03:03:16.583696Z",
     "iopub.status.idle": "2024-05-13T03:03:19.257220Z",
     "shell.execute_reply": "2024-05-13T03:03:19.256412Z",
     "shell.execute_reply.started": "2024-05-13T03:03:16.584650Z"
    }
   },
   "outputs": [],
   "source": [
    "# Dùng faiss để đo độ tương đồng giữa 2 đặc trưng\n",
    "import faiss\n",
    "\n",
    "\n",
    "index = faiss.IndexIDMap(faiss.IndexFlatIP(10752))\n",
    "# Đưa các đặc trưng của gallery cùng với label\n",
    "index.add_with_ids(np.array([t.to('cpu').numpy() for t in concatenated_gallery_vectors]),np.array(gallery_list_labels))\n",
    "\n",
    "\n",
    "def search(query: str, k=1):\n",
    "    encoded_query = query.unsqueeze(dim=0).to('cpu').numpy()\n",
    "    top_k = index.search(encoded_query, k)\n",
    "    return top_k"
   ]
  },
  {
   "cell_type": "code",
   "execution_count": 41,
   "metadata": {
    "execution": {
     "iopub.execute_input": "2024-05-13T03:03:23.862883Z",
     "iopub.status.busy": "2024-05-13T03:03:23.862404Z",
     "iopub.status.idle": "2024-05-13T03:19:16.327978Z",
     "shell.execute_reply": "2024-05-13T03:19:16.326958Z",
     "shell.execute_reply.started": "2024-05-13T03:03:23.862844Z"
    }
   },
   "outputs": [
    {
     "name": "stdout",
     "output_type": "stream",
     "text": [
      "Rank1: 0.9851543942992874, Rank5: 0.9967339667458432, Rank10: 0.9970308788598575, mAP: 0.931285174014512\n"
     ]
    }
   ],
   "source": [
    "# Tính toán độ đo Rank1, Rank5, Rank10 và mAP khi truy vấn từng query vào gallery.\n",
    "rank1_score = 0\n",
    "rank5_score = 0\n",
    "rank10_score = 0\n",
    "ap = 0\n",
    "count = 0\n",
    "for query, label in zip(concatenated_query_vectors, query_list_labels):\n",
    "    count += 1\n",
    "    label = label\n",
    "    output = search(query, k=10)\n",
    "    rank1_score += rank1(label, output)\n",
    "    rank5_score += rank5(label, output)\n",
    "    rank10_score += rank10(label, output)\n",
    "    print(\"Correct: {}, Total: {}, Incorrect: {}\".format(rank1_score, count, count-rank1_score), end=\"\\r\")\n",
    "    ap += calc_map(label, output)\n",
    "\n",
    "print(\"Rank1: {}, Rank5: {}, Rank10: {}, mAP: {}\".format(rank1_score/len(query_feature),\n",
    "                                                         rank5_score/len(query_feature),\n",
    "                                                         rank10_score/len(query_feature), ap/len(query_feature)))"
   ]
  },
  {
   "cell_type": "markdown",
   "metadata": {},
   "source": [
    "# 7. Visulization"
   ]
  },
  {
   "cell_type": "code",
   "execution_count": null,
   "metadata": {
    "execution": {
     "iopub.status.busy": "2024-05-13T02:59:56.373728Z",
     "iopub.status.idle": "2024-05-13T02:59:56.374173Z",
     "shell.execute_reply": "2024-05-13T02:59:56.373955Z",
     "shell.execute_reply.started": "2024-05-13T02:59:56.373937Z"
    }
   },
   "outputs": [],
   "source": [
    "index2 = faiss.IndexIDMap(faiss.IndexFlatIP(10752))\n",
    "\n",
    "index2.add_with_ids(np.array([t.to('cpu').numpy() for t in concatenated_gallery_vectors]), np.arange(len(gallery_list_labels)))\n",
    "\n",
    "\n",
    "def search2(query: str, k=1):\n",
    "    encoded_query = query.unsqueeze(dim=0).to('cpu').numpy()\n",
    "    top_k = index2.search(encoded_query, k)\n",
    "    return top_k"
   ]
  },
  {
   "cell_type": "code",
   "execution_count": 64,
   "metadata": {
    "execution": {
     "iopub.execute_input": "2024-05-13T01:17:51.962460Z",
     "iopub.status.busy": "2024-05-13T01:17:51.962090Z",
     "iopub.status.idle": "2024-05-13T01:17:51.970675Z",
     "shell.execute_reply": "2024-05-13T01:17:51.969719Z",
     "shell.execute_reply.started": "2024-05-13T01:17:51.962430Z"
    }
   },
   "outputs": [],
   "source": [
    "def visualize_search_results(query_list_images, concatenated_query_vectors, gallery_list_images, search_func, num_results=5):\n",
    "    random_index = torch.randint(0, len(query_list_images), (1,))[0] # Chọn ngẫu nhiên 1 ảnh\n",
    "    query_image = query_list_images[random_index]\n",
    "    \n",
    "    plt.figure(figsize=(10, 4))\n",
    "    \n",
    "    # Plot the query image\n",
    "    plt.subplot(2, num_results, 1)\n",
    "    plt.imshow(query_image)\n",
    "    plt.title('Query Image')\n",
    "    plt.axis('off')\n",
    "\n",
    "    # Truy vấn\n",
    "    _, list_results = search_func(concatenated_query_vectors[random_index], num_results)\n",
    "\n",
    "    # Ảnh kết quả\n",
    "    for i in range(num_results):\n",
    "        retrieved_image = gallery_list_images[list_results[0][i]]\n",
    "        plt.subplot(2, num_results, num_results + i + 1)\n",
    "        plt.imshow(retrieved_image)\n",
    "        plt.title(f'Retrieved Image {i+1}')\n",
    "        plt.axis('off')\n",
    "\n",
    "    plt.tight_layout()\n",
    "    plt.show()"
   ]
  },
  {
   "cell_type": "code",
   "execution_count": 66,
   "metadata": {
    "execution": {
     "iopub.execute_input": "2024-05-13T01:20:09.603361Z",
     "iopub.status.busy": "2024-05-13T01:20:09.602473Z",
     "iopub.status.idle": "2024-05-13T01:20:10.373586Z",
     "shell.execute_reply": "2024-05-13T01:20:10.372639Z",
     "shell.execute_reply.started": "2024-05-13T01:20:09.603326Z"
    }
   },
   "outputs": [
    {
     "data": {
      "image/png": "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",
      "text/plain": [
       "<Figure size 1000x400 with 6 Axes>"
      ]
     },
     "metadata": {},
     "output_type": "display_data"
    }
   ],
   "source": [
    "visualize_search_results(query_list_images, concatenated_query_vectors, gallery_list_images, search2)"
   ]
  },
  {
   "cell_type": "code",
   "execution_count": null,
   "metadata": {},
   "outputs": [],
   "source": []
  }
 ],
 "metadata": {
  "kaggle": {
   "accelerator": "gpu",
   "dataSources": [
    {
     "datasetId": 4980010,
     "sourceId": 8375660,
     "sourceType": "datasetVersion"
    },
    {
     "datasetId": 4988832,
     "sourceId": 8387762,
     "sourceType": "datasetVersion"
    }
   ],
   "dockerImageVersionId": 30699,
   "isGpuEnabled": true,
   "isInternetEnabled": true,
   "language": "python",
   "sourceType": "notebook"
  },
  "kernelspec": {
   "display_name": "Python 3 (ipykernel)",
   "language": "python",
   "name": "python3"
  },
  "language_info": {
   "codemirror_mode": {
    "name": "ipython",
    "version": 3
   },
   "file_extension": ".py",
   "mimetype": "text/x-python",
   "name": "python",
   "nbconvert_exporter": "python",
   "pygments_lexer": "ipython3",
   "version": "3.11.7"
  }
 },
 "nbformat": 4,
 "nbformat_minor": 4
}
=======
{"metadata":{"kernelspec":{"language":"python","display_name":"Python 3","name":"python3"},"language_info":{"name":"python","version":"3.10.13","mimetype":"text/x-python","codemirror_mode":{"name":"ipython","version":3},"pygments_lexer":"ipython3","nbconvert_exporter":"python","file_extension":".py"},"kaggle":{"accelerator":"gpu","dataSources":[{"sourceId":8375660,"sourceType":"datasetVersion","datasetId":4980010},{"sourceId":8386181,"sourceType":"datasetVersion","datasetId":4987780},{"sourceId":8387762,"sourceType":"datasetVersion","datasetId":4988832}],"dockerImageVersionId":30699,"isInternetEnabled":true,"language":"python","sourceType":"notebook","isGpuEnabled":true}},"nbformat_minor":4,"nbformat":4,"cells":[{"cell_type":"markdown","source":"# 1. Import library","metadata":{}},{"cell_type":"code","source":"# Regarding pytorch\nimport torch\nimport torch.nn as nn\nimport torch.nn.functional as F\nfrom torch.utils.data import Dataset, DataLoader\nfrom torchvision import transforms\nimport torch.optim as optim\n# Other\nimport timm\nimport numpy as np\nimport matplotlib.pyplot as plt\nfrom PIL import Image\nfrom tqdm.notebook import tqdm\nimport os\nfrom sklearn.model_selection import train_test_split","metadata":{"execution":{"iopub.status.busy":"2024-05-12T02:46:09.841035Z","iopub.execute_input":"2024-05-12T02:46:09.842055Z","iopub.status.idle":"2024-05-12T02:46:17.314791Z","shell.execute_reply.started":"2024-05-12T02:46:09.842008Z","shell.execute_reply":"2024-05-12T02:46:17.313850Z"},"trusted":true},"execution_count":1,"outputs":[]},{"cell_type":"markdown","source":"# 2. Dataset","metadata":{}},{"cell_type":"code","source":"train_path = '/kaggle/input/market-dataset-2/Market-Pytorch/Market/train/'\nval_path = '/kaggle/input/market-dataset-2/Market-Pytorch/Market/val/'","metadata":{"execution":{"iopub.status.busy":"2024-05-12T02:46:17.316366Z","iopub.execute_input":"2024-05-12T02:46:17.316628Z","iopub.status.idle":"2024-05-12T02:46:17.320800Z","shell.execute_reply.started":"2024-05-12T02:46:17.316605Z","shell.execute_reply":"2024-05-12T02:46:17.319936Z"},"trusted":true},"execution_count":2,"outputs":[]},{"cell_type":"code","source":"def extractImageandLabel(path):\n    list_subfolder = os.listdir(path)\n    list_images = []\n    list_classes = []\n    list_labels = []\n    for i, subfolder in enumerate(list_subfolder):\n        _class = int(subfolder) # Class của đối tượng\n        sub_path = path + subfolder + '/' # Đường dẫn đến folder chứa các ảnh thuộc cùng 1 class\n        list_image_names = os.listdir(sub_path) # Tên các ảnh của folder ở trên\n        list_image_paths = [sub_path + name for name in list_image_names] # Đường dẫn tới các ảnh đó\n        for image_path in list_image_paths:\n            image = Image.open(image_path)\n            list_images.append(image)\n            list_classes.append(_class)\n            list_labels.append(i)\n    return list_images, list_classes, list_labels","metadata":{"execution":{"iopub.status.busy":"2024-05-12T02:46:17.321776Z","iopub.execute_input":"2024-05-12T02:46:17.322001Z","iopub.status.idle":"2024-05-12T02:46:17.332710Z","shell.execute_reply.started":"2024-05-12T02:46:17.321982Z","shell.execute_reply":"2024-05-12T02:46:17.331777Z"},"trusted":true},"execution_count":3,"outputs":[]},{"cell_type":"code","source":"train_list_images, train_list_classes, train_list_labels = extractImageandLabel(train_path)","metadata":{"execution":{"iopub.status.busy":"2024-05-12T02:46:17.334755Z","iopub.execute_input":"2024-05-12T02:46:17.335010Z","iopub.status.idle":"2024-05-12T02:47:10.932832Z","shell.execute_reply.started":"2024-05-12T02:46:17.334989Z","shell.execute_reply":"2024-05-12T02:47:10.931472Z"},"trusted":true},"execution_count":4,"outputs":[]},{"cell_type":"code","source":"val_list_images, val_list_classes, val_list_labels = extractImageandLabel(val_path)","metadata":{"execution":{"iopub.status.busy":"2024-05-12T02:47:10.933949Z","iopub.execute_input":"2024-05-12T02:47:10.934256Z","iopub.status.idle":"2024-05-12T02:47:16.314292Z","shell.execute_reply.started":"2024-05-12T02:47:10.934230Z","shell.execute_reply":"2024-05-12T02:47:16.313349Z"},"trusted":true},"execution_count":5,"outputs":[]},{"cell_type":"code","source":"print('Số lượng ảnh ở tập train: ', len(train_list_images))\nprint('Số lượng lớp ở tập train: ', len(set(train_list_classes)))\nprint('Số lượng ảnh ở tập val: ', len(val_list_images))\nprint('Số lượng lớp ở tập val: ', len(set(val_list_classes)))","metadata":{"execution":{"iopub.status.busy":"2024-05-12T02:47:16.315416Z","iopub.execute_input":"2024-05-12T02:47:16.315702Z","iopub.status.idle":"2024-05-12T02:47:16.321862Z","shell.execute_reply.started":"2024-05-12T02:47:16.315679Z","shell.execute_reply":"2024-05-12T02:47:16.320880Z"},"trusted":true},"execution_count":6,"outputs":[{"name":"stdout","text":"Số lượng ảnh ở tập train:  12185\nSố lượng lớp ở tập train:  751\nSố lượng ảnh ở tập val:  751\nSố lượng lớp ở tập val:  751\n","output_type":"stream"}]},{"cell_type":"code","source":"transform_train_list = [\n    transforms.Resize((224,224), interpolation= 3),\n    transforms.ToTensor(),\n    transforms.RandomHorizontalFlip(),\n#     transforms.Normalize(mean=[0.485, 0.456, 0.406], std=[0.229, 0.224, 0.225])\n]\ntransform_val_list = [\n    transforms.Resize((224, 224), interpolation= 3),\n    transforms.ToTensor(),\n#     transforms.Normalize(mean=[0.485, 0.456, 0.406], std=[0.229, 0.224, 0.225])\n]\ndata_transforms = [\n    transforms.Compose(transform_train_list), # train\n    transforms.Compose(transform_val_list) # val\n]","metadata":{"execution":{"iopub.status.busy":"2024-05-12T02:47:16.323170Z","iopub.execute_input":"2024-05-12T02:47:16.323504Z","iopub.status.idle":"2024-05-12T02:47:16.341625Z","shell.execute_reply.started":"2024-05-12T02:47:16.323474Z","shell.execute_reply":"2024-05-12T02:47:16.340741Z"},"trusted":true},"execution_count":7,"outputs":[]},{"cell_type":"code","source":"class TrainValDataset(Dataset):\n    def __init__(self, list_images, list_labels, data_transforms, is_train = True):\n        self.list_images = list_images\n        self.list_labels = list_labels\n        self.data_transforms = data_transforms\n        self.is_train = is_train\n    def __len__(self):\n        return len(self.list_images)\n    def __getitem__(self, idx):\n        label = self.list_labels[idx] # label\n        # Image\n        image = self.list_images[idx]\n        transform = self.data_transforms[0]   \n        if not self.is_train:\n            transform = self.data_transforms[1]\n        image = transform(image)\n        return image, label","metadata":{"execution":{"iopub.status.busy":"2024-05-12T02:47:16.342682Z","iopub.execute_input":"2024-05-12T02:47:16.342954Z","iopub.status.idle":"2024-05-12T02:47:16.355778Z","shell.execute_reply.started":"2024-05-12T02:47:16.342932Z","shell.execute_reply":"2024-05-12T02:47:16.354793Z"},"trusted":true},"execution_count":8,"outputs":[]},{"cell_type":"code","source":"train_dataset = TrainValDataset(train_list_images, train_list_labels, data_transforms)\nval_dataset = TrainValDataset(val_list_images, val_list_labels, data_transforms, is_train = False)","metadata":{"execution":{"iopub.status.busy":"2024-05-12T02:47:16.356937Z","iopub.execute_input":"2024-05-12T02:47:16.357198Z","iopub.status.idle":"2024-05-12T02:47:16.364339Z","shell.execute_reply.started":"2024-05-12T02:47:16.357177Z","shell.execute_reply":"2024-05-12T02:47:16.363558Z"},"trusted":true},"execution_count":9,"outputs":[]},{"cell_type":"code","source":"train_loader = DataLoader(train_dataset, shuffle = True, batch_size = 32)\nval_loader = DataLoader(val_dataset, shuffle = True, batch_size = 32)","metadata":{"execution":{"iopub.status.busy":"2024-05-12T02:47:16.367119Z","iopub.execute_input":"2024-05-12T02:47:16.367392Z","iopub.status.idle":"2024-05-12T02:47:16.373998Z","shell.execute_reply.started":"2024-05-12T02:47:16.367370Z","shell.execute_reply":"2024-05-12T02:47:16.373021Z"},"trusted":true},"execution_count":10,"outputs":[]},{"cell_type":"code","source":"a, b = next(iter(train_loader)) # Dùng để kiểm tra code TrainValDataset chạy đúng không","metadata":{"execution":{"iopub.status.busy":"2024-05-12T02:47:16.375204Z","iopub.execute_input":"2024-05-12T02:47:16.375518Z","iopub.status.idle":"2024-05-12T02:47:16.549699Z","shell.execute_reply.started":"2024-05-12T02:47:16.375488Z","shell.execute_reply":"2024-05-12T02:47:16.548888Z"},"trusted":true},"execution_count":11,"outputs":[]},{"cell_type":"markdown","source":"# 3. Train","metadata":{}},{"cell_type":"code","source":"device = torch.device(\"cuda:0\" if torch.cuda.is_available() else \"cpu\")\ndevice","metadata":{"execution":{"iopub.status.busy":"2024-05-12T02:47:16.550701Z","iopub.execute_input":"2024-05-12T02:47:16.550970Z","iopub.status.idle":"2024-05-12T02:47:16.578492Z","shell.execute_reply.started":"2024-05-12T02:47:16.550946Z","shell.execute_reply":"2024-05-12T02:47:16.577376Z"},"trusted":true},"execution_count":12,"outputs":[{"execution_count":12,"output_type":"execute_result","data":{"text/plain":"device(type='cuda', index=0)"},"metadata":{}}]},{"cell_type":"code","source":"# Load pre-trained ViT\nvit_base = timm.create_model('vit_base_patch16_224', pretrained=True, num_classes=751)\nvit_base= vit_base.to(device)\nvit_base.eval()","metadata":{"execution":{"iopub.status.busy":"2024-05-12T02:47:16.579702Z","iopub.execute_input":"2024-05-12T02:47:16.580129Z","iopub.status.idle":"2024-05-12T02:47:20.797182Z","shell.execute_reply.started":"2024-05-12T02:47:16.580098Z","shell.execute_reply":"2024-05-12T02:47:20.796078Z"},"trusted":true},"execution_count":13,"outputs":[{"output_type":"display_data","data":{"text/plain":"model.safetensors:   0%|          | 0.00/346M [00:00<?, ?B/s]","application/vnd.jupyter.widget-view+json":{"version_major":2,"version_minor":0,"model_id":"b6acc45ec9c847e0a2704c55a97ba0ab"}},"metadata":{}},{"execution_count":13,"output_type":"execute_result","data":{"text/plain":"VisionTransformer(\n  (patch_embed): PatchEmbed(\n    (proj): Conv2d(3, 768, kernel_size=(16, 16), stride=(16, 16))\n    (norm): Identity()\n  )\n  (pos_drop): Dropout(p=0.0, inplace=False)\n  (patch_drop): Identity()\n  (norm_pre): Identity()\n  (blocks): Sequential(\n    (0): Block(\n      (norm1): LayerNorm((768,), eps=1e-06, elementwise_affine=True)\n      (attn): Attention(\n        (qkv): Linear(in_features=768, out_features=2304, bias=True)\n        (q_norm): Identity()\n        (k_norm): Identity()\n        (attn_drop): Dropout(p=0.0, inplace=False)\n        (proj): Linear(in_features=768, out_features=768, bias=True)\n        (proj_drop): Dropout(p=0.0, inplace=False)\n      )\n      (ls1): Identity()\n      (drop_path1): Identity()\n      (norm2): LayerNorm((768,), eps=1e-06, elementwise_affine=True)\n      (mlp): Mlp(\n        (fc1): Linear(in_features=768, out_features=3072, bias=True)\n        (act): GELU(approximate='none')\n        (drop1): Dropout(p=0.0, inplace=False)\n        (norm): Identity()\n        (fc2): Linear(in_features=3072, out_features=768, bias=True)\n        (drop2): Dropout(p=0.0, inplace=False)\n      )\n      (ls2): Identity()\n      (drop_path2): Identity()\n    )\n    (1): Block(\n      (norm1): LayerNorm((768,), eps=1e-06, elementwise_affine=True)\n      (attn): Attention(\n        (qkv): Linear(in_features=768, out_features=2304, bias=True)\n        (q_norm): Identity()\n        (k_norm): Identity()\n        (attn_drop): Dropout(p=0.0, inplace=False)\n        (proj): Linear(in_features=768, out_features=768, bias=True)\n        (proj_drop): Dropout(p=0.0, inplace=False)\n      )\n      (ls1): Identity()\n      (drop_path1): Identity()\n      (norm2): LayerNorm((768,), eps=1e-06, elementwise_affine=True)\n      (mlp): Mlp(\n        (fc1): Linear(in_features=768, out_features=3072, bias=True)\n        (act): GELU(approximate='none')\n        (drop1): Dropout(p=0.0, inplace=False)\n        (norm): Identity()\n        (fc2): Linear(in_features=3072, out_features=768, bias=True)\n        (drop2): Dropout(p=0.0, inplace=False)\n      )\n      (ls2): Identity()\n      (drop_path2): Identity()\n    )\n    (2): Block(\n      (norm1): LayerNorm((768,), eps=1e-06, elementwise_affine=True)\n      (attn): Attention(\n        (qkv): Linear(in_features=768, out_features=2304, bias=True)\n        (q_norm): Identity()\n        (k_norm): Identity()\n        (attn_drop): Dropout(p=0.0, inplace=False)\n        (proj): Linear(in_features=768, out_features=768, bias=True)\n        (proj_drop): Dropout(p=0.0, inplace=False)\n      )\n      (ls1): Identity()\n      (drop_path1): Identity()\n      (norm2): LayerNorm((768,), eps=1e-06, elementwise_affine=True)\n      (mlp): Mlp(\n        (fc1): Linear(in_features=768, out_features=3072, bias=True)\n        (act): GELU(approximate='none')\n        (drop1): Dropout(p=0.0, inplace=False)\n        (norm): Identity()\n        (fc2): Linear(in_features=3072, out_features=768, bias=True)\n        (drop2): Dropout(p=0.0, inplace=False)\n      )\n      (ls2): Identity()\n      (drop_path2): Identity()\n    )\n    (3): Block(\n      (norm1): LayerNorm((768,), eps=1e-06, elementwise_affine=True)\n      (attn): Attention(\n        (qkv): Linear(in_features=768, out_features=2304, bias=True)\n        (q_norm): Identity()\n        (k_norm): Identity()\n        (attn_drop): Dropout(p=0.0, inplace=False)\n        (proj): Linear(in_features=768, out_features=768, bias=True)\n        (proj_drop): Dropout(p=0.0, inplace=False)\n      )\n      (ls1): Identity()\n      (drop_path1): Identity()\n      (norm2): LayerNorm((768,), eps=1e-06, elementwise_affine=True)\n      (mlp): Mlp(\n        (fc1): Linear(in_features=768, out_features=3072, bias=True)\n        (act): GELU(approximate='none')\n        (drop1): Dropout(p=0.0, inplace=False)\n        (norm): Identity()\n        (fc2): Linear(in_features=3072, out_features=768, bias=True)\n        (drop2): Dropout(p=0.0, inplace=False)\n      )\n      (ls2): Identity()\n      (drop_path2): Identity()\n    )\n    (4): Block(\n      (norm1): LayerNorm((768,), eps=1e-06, elementwise_affine=True)\n      (attn): Attention(\n        (qkv): Linear(in_features=768, out_features=2304, bias=True)\n        (q_norm): Identity()\n        (k_norm): Identity()\n        (attn_drop): Dropout(p=0.0, inplace=False)\n        (proj): Linear(in_features=768, out_features=768, bias=True)\n        (proj_drop): Dropout(p=0.0, inplace=False)\n      )\n      (ls1): Identity()\n      (drop_path1): Identity()\n      (norm2): LayerNorm((768,), eps=1e-06, elementwise_affine=True)\n      (mlp): Mlp(\n        (fc1): Linear(in_features=768, out_features=3072, bias=True)\n        (act): GELU(approximate='none')\n        (drop1): Dropout(p=0.0, inplace=False)\n        (norm): Identity()\n        (fc2): Linear(in_features=3072, out_features=768, bias=True)\n        (drop2): Dropout(p=0.0, inplace=False)\n      )\n      (ls2): Identity()\n      (drop_path2): Identity()\n    )\n    (5): Block(\n      (norm1): LayerNorm((768,), eps=1e-06, elementwise_affine=True)\n      (attn): Attention(\n        (qkv): Linear(in_features=768, out_features=2304, bias=True)\n        (q_norm): Identity()\n        (k_norm): Identity()\n        (attn_drop): Dropout(p=0.0, inplace=False)\n        (proj): Linear(in_features=768, out_features=768, bias=True)\n        (proj_drop): Dropout(p=0.0, inplace=False)\n      )\n      (ls1): Identity()\n      (drop_path1): Identity()\n      (norm2): LayerNorm((768,), eps=1e-06, elementwise_affine=True)\n      (mlp): Mlp(\n        (fc1): Linear(in_features=768, out_features=3072, bias=True)\n        (act): GELU(approximate='none')\n        (drop1): Dropout(p=0.0, inplace=False)\n        (norm): Identity()\n        (fc2): Linear(in_features=3072, out_features=768, bias=True)\n        (drop2): Dropout(p=0.0, inplace=False)\n      )\n      (ls2): Identity()\n      (drop_path2): Identity()\n    )\n    (6): Block(\n      (norm1): LayerNorm((768,), eps=1e-06, elementwise_affine=True)\n      (attn): Attention(\n        (qkv): Linear(in_features=768, out_features=2304, bias=True)\n        (q_norm): Identity()\n        (k_norm): Identity()\n        (attn_drop): Dropout(p=0.0, inplace=False)\n        (proj): Linear(in_features=768, out_features=768, bias=True)\n        (proj_drop): Dropout(p=0.0, inplace=False)\n      )\n      (ls1): Identity()\n      (drop_path1): Identity()\n      (norm2): LayerNorm((768,), eps=1e-06, elementwise_affine=True)\n      (mlp): Mlp(\n        (fc1): Linear(in_features=768, out_features=3072, bias=True)\n        (act): GELU(approximate='none')\n        (drop1): Dropout(p=0.0, inplace=False)\n        (norm): Identity()\n        (fc2): Linear(in_features=3072, out_features=768, bias=True)\n        (drop2): Dropout(p=0.0, inplace=False)\n      )\n      (ls2): Identity()\n      (drop_path2): Identity()\n    )\n    (7): Block(\n      (norm1): LayerNorm((768,), eps=1e-06, elementwise_affine=True)\n      (attn): Attention(\n        (qkv): Linear(in_features=768, out_features=2304, bias=True)\n        (q_norm): Identity()\n        (k_norm): Identity()\n        (attn_drop): Dropout(p=0.0, inplace=False)\n        (proj): Linear(in_features=768, out_features=768, bias=True)\n        (proj_drop): Dropout(p=0.0, inplace=False)\n      )\n      (ls1): Identity()\n      (drop_path1): Identity()\n      (norm2): LayerNorm((768,), eps=1e-06, elementwise_affine=True)\n      (mlp): Mlp(\n        (fc1): Linear(in_features=768, out_features=3072, bias=True)\n        (act): GELU(approximate='none')\n        (drop1): Dropout(p=0.0, inplace=False)\n        (norm): Identity()\n        (fc2): Linear(in_features=3072, out_features=768, bias=True)\n        (drop2): Dropout(p=0.0, inplace=False)\n      )\n      (ls2): Identity()\n      (drop_path2): Identity()\n    )\n    (8): Block(\n      (norm1): LayerNorm((768,), eps=1e-06, elementwise_affine=True)\n      (attn): Attention(\n        (qkv): Linear(in_features=768, out_features=2304, bias=True)\n        (q_norm): Identity()\n        (k_norm): Identity()\n        (attn_drop): Dropout(p=0.0, inplace=False)\n        (proj): Linear(in_features=768, out_features=768, bias=True)\n        (proj_drop): Dropout(p=0.0, inplace=False)\n      )\n      (ls1): Identity()\n      (drop_path1): Identity()\n      (norm2): LayerNorm((768,), eps=1e-06, elementwise_affine=True)\n      (mlp): Mlp(\n        (fc1): Linear(in_features=768, out_features=3072, bias=True)\n        (act): GELU(approximate='none')\n        (drop1): Dropout(p=0.0, inplace=False)\n        (norm): Identity()\n        (fc2): Linear(in_features=3072, out_features=768, bias=True)\n        (drop2): Dropout(p=0.0, inplace=False)\n      )\n      (ls2): Identity()\n      (drop_path2): Identity()\n    )\n    (9): Block(\n      (norm1): LayerNorm((768,), eps=1e-06, elementwise_affine=True)\n      (attn): Attention(\n        (qkv): Linear(in_features=768, out_features=2304, bias=True)\n        (q_norm): Identity()\n        (k_norm): Identity()\n        (attn_drop): Dropout(p=0.0, inplace=False)\n        (proj): Linear(in_features=768, out_features=768, bias=True)\n        (proj_drop): Dropout(p=0.0, inplace=False)\n      )\n      (ls1): Identity()\n      (drop_path1): Identity()\n      (norm2): LayerNorm((768,), eps=1e-06, elementwise_affine=True)\n      (mlp): Mlp(\n        (fc1): Linear(in_features=768, out_features=3072, bias=True)\n        (act): GELU(approximate='none')\n        (drop1): Dropout(p=0.0, inplace=False)\n        (norm): Identity()\n        (fc2): Linear(in_features=3072, out_features=768, bias=True)\n        (drop2): Dropout(p=0.0, inplace=False)\n      )\n      (ls2): Identity()\n      (drop_path2): Identity()\n    )\n    (10): Block(\n      (norm1): LayerNorm((768,), eps=1e-06, elementwise_affine=True)\n      (attn): Attention(\n        (qkv): Linear(in_features=768, out_features=2304, bias=True)\n        (q_norm): Identity()\n        (k_norm): Identity()\n        (attn_drop): Dropout(p=0.0, inplace=False)\n        (proj): Linear(in_features=768, out_features=768, bias=True)\n        (proj_drop): Dropout(p=0.0, inplace=False)\n      )\n      (ls1): Identity()\n      (drop_path1): Identity()\n      (norm2): LayerNorm((768,), eps=1e-06, elementwise_affine=True)\n      (mlp): Mlp(\n        (fc1): Linear(in_features=768, out_features=3072, bias=True)\n        (act): GELU(approximate='none')\n        (drop1): Dropout(p=0.0, inplace=False)\n        (norm): Identity()\n        (fc2): Linear(in_features=3072, out_features=768, bias=True)\n        (drop2): Dropout(p=0.0, inplace=False)\n      )\n      (ls2): Identity()\n      (drop_path2): Identity()\n    )\n    (11): Block(\n      (norm1): LayerNorm((768,), eps=1e-06, elementwise_affine=True)\n      (attn): Attention(\n        (qkv): Linear(in_features=768, out_features=2304, bias=True)\n        (q_norm): Identity()\n        (k_norm): Identity()\n        (attn_drop): Dropout(p=0.0, inplace=False)\n        (proj): Linear(in_features=768, out_features=768, bias=True)\n        (proj_drop): Dropout(p=0.0, inplace=False)\n      )\n      (ls1): Identity()\n      (drop_path1): Identity()\n      (norm2): LayerNorm((768,), eps=1e-06, elementwise_affine=True)\n      (mlp): Mlp(\n        (fc1): Linear(in_features=768, out_features=3072, bias=True)\n        (act): GELU(approximate='none')\n        (drop1): Dropout(p=0.0, inplace=False)\n        (norm): Identity()\n        (fc2): Linear(in_features=3072, out_features=768, bias=True)\n        (drop2): Dropout(p=0.0, inplace=False)\n      )\n      (ls2): Identity()\n      (drop_path2): Identity()\n    )\n  )\n  (norm): LayerNorm((768,), eps=1e-06, elementwise_affine=True)\n  (fc_norm): Identity()\n  (head_drop): Dropout(p=0.0, inplace=False)\n  (head): Linear(in_features=768, out_features=751, bias=True)\n)"},"metadata":{}}]},{"cell_type":"code","source":"class FCLayer(nn.Module):\n    def __init__(self, input_dim=768, num_bottleneck=512, num_classes=751):\n        super().__init__()\n        self.input_dim = input_dim\n        self.num_bottleneck = num_bottleneck\n        self.num_classes = num_classes\n        self.linear1 = nn.Linear(self.input_dim, self.num_bottleneck)\n        self.linear2 = nn.Linear(self.num_bottleneck, self.num_classes)\n        self.ReLU = nn.ReLU()\n        self.batch_norm = nn.BatchNorm1d(self.num_bottleneck)\n        \n        \n    def forward(self, x):\n        x = self.linear1(x)\n        x = self.ReLU(x)\n        x = self.batch_norm(x)\n        x = self.linear2(x)\n        return x","metadata":{"execution":{"iopub.status.busy":"2024-05-12T02:47:20.798474Z","iopub.execute_input":"2024-05-12T02:47:20.798865Z","iopub.status.idle":"2024-05-12T02:47:20.807350Z","shell.execute_reply.started":"2024-05-12T02:47:20.798830Z","shell.execute_reply":"2024-05-12T02:47:20.805967Z"},"trusted":true},"execution_count":14,"outputs":[]},{"cell_type":"code","source":"class LATransformer(nn.Module):\n    def __init__(self, backbone_model, _lambda):\n        super().__init__()\n        self.backbone_model = backbone_model\n        self._lambda = _lambda\n        self.avgpool = nn.AdaptiveAvgPool2d((14,768))\n        self.fc_layers = nn.ModuleList([FCLayer() for _ in range(14)])\n        \n    def forward(self, x):\n        x = self.backbone_model.patch_embed(x)\n        cls_token = self.backbone_model.cls_token.expand(x.shape[0], -1, -1)\n        x = torch.cat((cls_token, x), dim=1)\n        x = self.backbone_model.pos_drop(x + self.backbone_model.pos_embed)\n\n        # Feed forward through transformer blocks\n        for i in range(12):\n            x = self.backbone_model.blocks[i](x)\n        x = self.backbone_model.norm(x)\n\n        # extract the cls token\n        G = x[:,0,:].unsqueeze(1) # cls\n        Q = x[:,1:,:] # local feature\n        GELT = self.avgpool(Q)\n        for i in range(14):\n            out = torch.mul(GELT[:, i, :], self._lambda)\n            GELT[:,i,:] = torch.div(torch.add(G.squeeze(),out), 1+self._lambda)\n        y = []\n        for i in range(14):\n            avgGELT = GELT[:,i,:]\n            y_i = self.fc_layers[i](avgGELT)\n            y.append(y_i)\n            \n        return GELT, y","metadata":{"execution":{"iopub.status.busy":"2024-05-12T02:47:20.808599Z","iopub.execute_input":"2024-05-12T02:47:20.808928Z","iopub.status.idle":"2024-05-12T02:47:20.828479Z","shell.execute_reply.started":"2024-05-12T02:47:20.808898Z","shell.execute_reply":"2024-05-12T02:47:20.827515Z"},"trusted":true},"execution_count":15,"outputs":[]},{"cell_type":"code","source":"la_transformer_model = LATransformer(vit_base, 8).to(device)\n# la_transformer_model.load_state_dict(torch.load('/kaggle/input/epoch-13/model_epoch_13.pth'))\nCE_loss = nn.CrossEntropyLoss()\noptimizer = optim.Adam(la_transformer_model.parameters(), lr=0.0001)","metadata":{"execution":{"iopub.status.busy":"2024-05-12T02:47:20.829632Z","iopub.execute_input":"2024-05-12T02:47:20.829902Z","iopub.status.idle":"2024-05-12T02:47:24.614937Z","shell.execute_reply.started":"2024-05-12T02:47:20.829881Z","shell.execute_reply":"2024-05-12T02:47:24.613904Z"},"trusted":true},"execution_count":16,"outputs":[]},{"cell_type":"code","source":"def train(model, train_loader, num_epochs):\n    softmax = nn.Softmax(dim = 1)\n    for epoch in range(num_epochs):\n        model.train()\n        correct = 0\n        total_loss = 0\n        for image, label in tqdm(train_loader):\n            optimizer.zero_grad()\n            image, label = image.to(device), label.to(device)\n            _, outputs = model(image)\n            score = 0\n            loss = 0.0\n            for output in outputs:\n                score += softmax(output)\n                loss += CE_loss(output, label)\n            total_loss += loss.item()\n            #\n            loss.backward()\n            optimizer.step()\n            #\n            pred = torch.argmax(score, dim = 1)\n            correct += (pred == label).sum()\n            #\n        avg_loss = total_loss/len(train_list_images)\n        file_path = f'/kaggle/working/model_epoch_{epoch + 10}.pth'\n        torch.save(model.state_dict(), file_path)\n        print(f'Epoch {epoch + 10}: Loss: {avg_loss} Train_accuracy: {correct/len(train_list_images)}')","metadata":{"execution":{"iopub.status.busy":"2024-05-12T01:18:56.913105Z","iopub.execute_input":"2024-05-12T01:18:56.913585Z","iopub.status.idle":"2024-05-12T01:18:56.922529Z","shell.execute_reply.started":"2024-05-12T01:18:56.913553Z","shell.execute_reply":"2024-05-12T01:18:56.921545Z"},"trusted":true},"execution_count":20,"outputs":[]},{"cell_type":"code","source":"train(la_transformer_model, train_loader, 5)","metadata":{"execution":{"iopub.status.busy":"2024-05-12T01:18:57.173094Z","iopub.execute_input":"2024-05-12T01:18:57.173748Z","iopub.status.idle":"2024-05-12T01:38:18.033967Z","shell.execute_reply.started":"2024-05-12T01:18:57.173714Z","shell.execute_reply":"2024-05-12T01:38:18.032937Z"},"trusted":true},"execution_count":21,"outputs":[{"output_type":"display_data","data":{"text/plain":"  0%|          | 0/381 [00:00<?, ?it/s]","application/vnd.jupyter.widget-view+json":{"version_major":2,"version_minor":0,"model_id":"97393492a2f5471cad52c5a5233ca46c"}},"metadata":{}},{"name":"stdout","text":"Epoch 10: Loss: 0.048034105394578246 Train_accuracy: 0.9849815368652344\n","output_type":"stream"},{"output_type":"display_data","data":{"text/plain":"  0%|          | 0/381 [00:00<?, ?it/s]","application/vnd.jupyter.widget-view+json":{"version_major":2,"version_minor":0,"model_id":"262bdc70b30745d2957d2cb04e1c4260"}},"metadata":{}},{"name":"stdout","text":"Epoch 11: Loss: 0.036785092191662906 Train_accuracy: 0.9876897931098938\n","output_type":"stream"},{"output_type":"display_data","data":{"text/plain":"  0%|          | 0/381 [00:00<?, ?it/s]","application/vnd.jupyter.widget-view+json":{"version_major":2,"version_minor":0,"model_id":"c10e5f2cef2a43daad540093ab7ff371"}},"metadata":{}},{"name":"stdout","text":"Epoch 12: Loss: 0.03635558236633406 Train_accuracy: 0.9872794151306152\n","output_type":"stream"},{"output_type":"display_data","data":{"text/plain":"  0%|          | 0/381 [00:00<?, ?it/s]","application/vnd.jupyter.widget-view+json":{"version_major":2,"version_minor":0,"model_id":"6d2c5e8fd482481f8f91afe8f8b002b5"}},"metadata":{}},{"name":"stdout","text":"Epoch 13: Loss: 0.02227482087772598 Train_accuracy: 0.9916290640830994\n","output_type":"stream"},{"output_type":"display_data","data":{"text/plain":"  0%|          | 0/381 [00:00<?, ?it/s]","application/vnd.jupyter.widget-view+json":{"version_major":2,"version_minor":0,"model_id":"007851681ca44c09a2e88c634358d293"}},"metadata":{}},{"name":"stdout","text":"Epoch 14: Loss: 0.03281283586190086 Train_accuracy: 0.9876897931098938\n","output_type":"stream"}]},{"cell_type":"code","source":"def validate(model, val_loader):\n    correct = 0\n    total = 751\n    total_loss = 0\n    softmax = nn.Softmax(dim = 1)\n    for image, label in tqdm(val_loader):\n        image, label = image.to(device), label.to(device)\n        score = 0\n        loss = 0\n        with torch.no_grad():\n            _, outputs = model(image)\n            for output in outputs:\n                score += softmax(output)\n                loss += CE_loss(output, label)\n            total_loss += loss.item()\n            pred = torch.argmax(score, dim = 1)\n            correct += (pred == label).sum()\n    avg_loss = total_loss/total\n    print(f'Loss: {avg_loss} Val_accuracy: {correct/total}')    ","metadata":{"execution":{"iopub.status.busy":"2024-05-12T02:47:24.616310Z","iopub.execute_input":"2024-05-12T02:47:24.617011Z","iopub.status.idle":"2024-05-12T02:47:24.624279Z","shell.execute_reply.started":"2024-05-12T02:47:24.616978Z","shell.execute_reply":"2024-05-12T02:47:24.623225Z"},"trusted":true},"execution_count":17,"outputs":[]},{"cell_type":"code","source":"validate(la_transformer_model, val_loader)","metadata":{"execution":{"iopub.status.busy":"2024-05-12T02:47:24.625526Z","iopub.execute_input":"2024-05-12T02:47:24.626287Z","iopub.status.idle":"2024-05-12T02:47:31.467521Z","shell.execute_reply.started":"2024-05-12T02:47:24.626255Z","shell.execute_reply":"2024-05-12T02:47:31.466620Z"},"trusted":true},"execution_count":18,"outputs":[{"output_type":"display_data","data":{"text/plain":"  0%|          | 0/24 [00:00<?, ?it/s]","application/vnd.jupyter.widget-view+json":{"version_major":2,"version_minor":0,"model_id":"6819f95e4da7487d9a9a09f7ad786eeb"}},"metadata":{}},{"name":"stdout","text":"Loss: 0.23947310796907834 Val_accuracy: 0.8908122181892395\n","output_type":"stream"}]},{"cell_type":"code","source":"os.chdir(r'/kaggle/working')\nfrom IPython.display import FileLink\nFileLink(r'model_epoch_13.pth')","metadata":{"execution":{"iopub.status.busy":"2024-05-12T01:38:57.628494Z","iopub.execute_input":"2024-05-12T01:38:57.629160Z","iopub.status.idle":"2024-05-12T01:38:57.635354Z","shell.execute_reply.started":"2024-05-12T01:38:57.629126Z","shell.execute_reply":"2024-05-12T01:38:57.634523Z"},"trusted":true},"execution_count":24,"outputs":[{"execution_count":24,"output_type":"execute_result","data":{"text/plain":"/kaggle/working/model_epoch_13.pth","text/html":"<a href='model_epoch_13.pth' target='_blank'>model_epoch_13.pth</a><br>"},"metadata":{}}]},{"cell_type":"markdown","source":"# 4. Test","metadata":{}},{"cell_type":"code","source":"query_path = '/kaggle/input/market-dataset-2/Market-Pytorch/Market/query/'\ngallery_path = '/kaggle/input/market-dataset-2/Market-Pytorch/Market/gallery/'","metadata":{"execution":{"iopub.status.busy":"2024-05-12T02:47:47.680844Z","iopub.execute_input":"2024-05-12T02:47:47.681227Z","iopub.status.idle":"2024-05-12T02:47:47.685624Z","shell.execute_reply.started":"2024-05-12T02:47:47.681199Z","shell.execute_reply":"2024-05-12T02:47:47.684503Z"},"trusted":true},"execution_count":19,"outputs":[]},{"cell_type":"code","source":"list_subfolder = os.listdir('/kaggle/input/market-dataset-2/Market-Pytorch/Market/gallery/')\ndictionary = {}\nfor i, subfolder in enumerate(list_subfolder):\n    _class = int(subfolder)\n    dictionary[_class] = i","metadata":{"execution":{"iopub.status.busy":"2024-05-12T02:47:48.344247Z","iopub.execute_input":"2024-05-12T02:47:48.345117Z","iopub.status.idle":"2024-05-12T02:47:48.476961Z","shell.execute_reply.started":"2024-05-12T02:47:48.345087Z","shell.execute_reply":"2024-05-12T02:47:48.476052Z"},"trusted":true},"execution_count":20,"outputs":[]},{"cell_type":"code","source":"def extractImageandLabelTest(path, dictionary):\n    list_subfolder = os.listdir(path)\n    list_images = []\n    list_labels = []\n    for i, subfolder in enumerate(list_subfolder):\n        _class = int(subfolder) # Class của đối tượng\n        sub_path = path + subfolder + '/' # Đường dẫn đến folder chứa các ảnh thuộc cùng 1 class\n        list_image_names = os.listdir(sub_path) # Tên các ảnh của folder ở trên\n        list_image_paths = [sub_path + name for name in list_image_names] # Đường dẫn tới các ảnh đó\n        for image_path in list_image_paths:\n            image = Image.open(image_path)\n            list_images.append(image)   \n            list_labels.append(dictionary[_class])\n    return list_images, list_labels","metadata":{"execution":{"iopub.status.busy":"2024-05-12T02:48:03.439100Z","iopub.execute_input":"2024-05-12T02:48:03.439458Z","iopub.status.idle":"2024-05-12T02:48:03.446933Z","shell.execute_reply.started":"2024-05-12T02:48:03.439432Z","shell.execute_reply":"2024-05-12T02:48:03.445738Z"},"trusted":true},"execution_count":22,"outputs":[]},{"cell_type":"code","source":"gallery_list_images, gallery_list_labels  = extractImageandLabelTest(gallery_path, dictionary)\nquery_list_images, query_list_labels  = extractImageandLabelTest(query_path, dictionary)","metadata":{"execution":{"iopub.status.busy":"2024-05-12T02:48:05.214375Z","iopub.execute_input":"2024-05-12T02:48:05.214731Z","iopub.status.idle":"2024-05-12T02:49:58.946103Z","shell.execute_reply.started":"2024-05-12T02:48:05.214703Z","shell.execute_reply":"2024-05-12T02:49:58.945225Z"},"trusted":true},"execution_count":23,"outputs":[]},{"cell_type":"code","source":"print('Số lượng ảnh trong gallery: ', len(gallery_list_images))\nprint('Số lượng class trong gallery: ', len(set(gallery_list_labels)))\nprint('Số lượng ảnh trong query: ', len(query_list_images))\nprint('Số lượng class trong query: ', len(set(query_list_labels)))","metadata":{"execution":{"iopub.status.busy":"2024-05-12T02:50:22.835332Z","iopub.execute_input":"2024-05-12T02:50:22.835729Z","iopub.status.idle":"2024-05-12T02:50:22.842431Z","shell.execute_reply.started":"2024-05-12T02:50:22.835699Z","shell.execute_reply":"2024-05-12T02:50:22.841434Z"},"trusted":true},"execution_count":25,"outputs":[{"name":"stdout","text":"Số lượng ảnh trong gallery:  19732\nSố lượng class trong gallery:  752\nSố lượng ảnh trong query:  3368\nSố lượng class trong query:  750\n","output_type":"stream"}]},{"cell_type":"code","source":"gallery_dataset = TrainValDataset(gallery_list_images, gallery_list_labels, data_transforms, is_train = False)\nquery_dataset = TrainValDataset(query_list_images, query_list_labels, data_transforms)","metadata":{"execution":{"iopub.status.busy":"2024-05-12T02:50:25.643485Z","iopub.execute_input":"2024-05-12T02:50:25.644393Z","iopub.status.idle":"2024-05-12T02:50:25.648640Z","shell.execute_reply.started":"2024-05-12T02:50:25.644356Z","shell.execute_reply":"2024-05-12T02:50:25.647736Z"},"trusted":true},"execution_count":26,"outputs":[]},{"cell_type":"code","source":"query_loader = DataLoader(query_dataset, batch_size = 16, shuffle=False)\ngallery_loader = DataLoader(gallery_dataset, batch_size = 16, shuffle = False)","metadata":{"execution":{"iopub.status.busy":"2024-05-12T02:50:26.705797Z","iopub.execute_input":"2024-05-12T02:50:26.706518Z","iopub.status.idle":"2024-05-12T02:50:26.710982Z","shell.execute_reply.started":"2024-05-12T02:50:26.706488Z","shell.execute_reply":"2024-05-12T02:50:26.710041Z"},"trusted":true},"execution_count":27,"outputs":[]},{"cell_type":"code","source":"def extract_feature(model, dataloader):\n    features = torch.FloatTensor().to(device)\n    for image, label in tqdm(dataloader):\n        image, label = image.to(device), label.to(device)\n        with torch.no_grad():\n            GELT, _ = model(image)\n            features = torch.cat((features, GELT), dim = 0)\n    return features","metadata":{"execution":{"iopub.status.busy":"2024-05-12T02:50:31.000596Z","iopub.execute_input":"2024-05-12T02:50:31.000960Z","iopub.status.idle":"2024-05-12T02:50:31.006929Z","shell.execute_reply.started":"2024-05-12T02:50:31.000933Z","shell.execute_reply":"2024-05-12T02:50:31.005946Z"},"trusted":true},"execution_count":28,"outputs":[]},{"cell_type":"code","source":"query_feature= extract_feature(la_transformer_model, query_loader)\ngallery_feature = extract_feature(la_transformer_model, gallery_loader)","metadata":{"execution":{"iopub.status.busy":"2024-05-12T02:50:34.099906Z","iopub.execute_input":"2024-05-12T02:50:34.100656Z","iopub.status.idle":"2024-05-12T02:52:57.913962Z","shell.execute_reply.started":"2024-05-12T02:50:34.100617Z","shell.execute_reply":"2024-05-12T02:52:57.912914Z"},"trusted":true},"execution_count":29,"outputs":[{"output_type":"display_data","data":{"text/plain":"  0%|          | 0/211 [00:00<?, ?it/s]","application/vnd.jupyter.widget-view+json":{"version_major":2,"version_minor":0,"model_id":"204d799e40714da09a1a90de8a86462c"}},"metadata":{}},{"output_type":"display_data","data":{"text/plain":"  0%|          | 0/1234 [00:00<?, ?it/s]","application/vnd.jupyter.widget-view+json":{"version_major":2,"version_minor":0,"model_id":"afecff9e510f40dc95c7054ea720363e"}},"metadata":{}}]},{"cell_type":"code","source":"def concatenated_feature(feature):\n    mean = torch.mean(feature, dim=1, keepdim=True).expand_as(feature)\n    std_dev = torch.std(feature, dim=1, keepdim=True).expand_as(feature)\n    normalized_feature = (feature - mean) / std_dev\n    list_feature = [feature.view(-1) for feature in normalized_feature]\n    return list_feature","metadata":{"execution":{"iopub.status.busy":"2024-05-12T02:53:11.505288Z","iopub.execute_input":"2024-05-12T02:53:11.505653Z","iopub.status.idle":"2024-05-12T02:53:11.512135Z","shell.execute_reply.started":"2024-05-12T02:53:11.505624Z","shell.execute_reply":"2024-05-12T02:53:11.511017Z"},"trusted":true},"execution_count":37,"outputs":[]},{"cell_type":"code","source":"concatenated_query_vectors = concatenated_feature(query_feature)\nconcatenated_gallery_vectors = concatenated_feature(gallery_feature)","metadata":{"execution":{"iopub.status.busy":"2024-05-12T02:53:11.774284Z","iopub.execute_input":"2024-05-12T02:53:11.774748Z","iopub.status.idle":"2024-05-12T02:53:11.902936Z","shell.execute_reply.started":"2024-05-12T02:53:11.774713Z","shell.execute_reply":"2024-05-12T02:53:11.901908Z"},"trusted":true},"execution_count":38,"outputs":[]},{"cell_type":"code","source":"def rank1(_class, output):\n    pred_class = output[1]\n    true_class = np.array(_class)\n    if _class == pred_class[0][0]:\n        return True\n    return False","metadata":{"execution":{"iopub.status.busy":"2024-05-12T02:53:14.005483Z","iopub.execute_input":"2024-05-12T02:53:14.005855Z","iopub.status.idle":"2024-05-12T02:53:14.011327Z","shell.execute_reply.started":"2024-05-12T02:53:14.005826Z","shell.execute_reply":"2024-05-12T02:53:14.010023Z"},"trusted":true},"execution_count":39,"outputs":[]},{"cell_type":"code","source":"def rank5(_class, output):\n    pred_class = output[1]\n    if _class in pred_class[0][:5]:\n        return True\n    return False","metadata":{"execution":{"iopub.status.busy":"2024-05-12T02:53:14.232601Z","iopub.execute_input":"2024-05-12T02:53:14.232951Z","iopub.status.idle":"2024-05-12T02:53:14.238016Z","shell.execute_reply.started":"2024-05-12T02:53:14.232925Z","shell.execute_reply":"2024-05-12T02:53:14.236930Z"},"trusted":true},"execution_count":40,"outputs":[]},{"cell_type":"code","source":"def rank10(_class, output):\n    pred_class = output[1]\n    if _class in pred_class[0][:10]:\n        return True\n    return False","metadata":{"execution":{"iopub.status.busy":"2024-05-12T02:53:14.486469Z","iopub.execute_input":"2024-05-12T02:53:14.486764Z","iopub.status.idle":"2024-05-12T02:53:14.491530Z","shell.execute_reply.started":"2024-05-12T02:53:14.486741Z","shell.execute_reply":"2024-05-12T02:53:14.490606Z"},"trusted":true},"execution_count":41,"outputs":[]},{"cell_type":"code","source":"def calc_map(label, output): # mai code lại do chưa hiểu mAP là gì\n    count = 0\n    score = 0\n    good = 0\n    for out in output[1][0]:\n        count += 1\n        if out==label:\n            good += 1\n            score += (good/count)\n    if good==0:\n        return 0\n    return score/good","metadata":{"execution":{"iopub.status.busy":"2024-05-12T02:53:14.795759Z","iopub.execute_input":"2024-05-12T02:53:14.796502Z","iopub.status.idle":"2024-05-12T02:53:14.801853Z","shell.execute_reply.started":"2024-05-12T02:53:14.796474Z","shell.execute_reply":"2024-05-12T02:53:14.800837Z"},"trusted":true},"execution_count":42,"outputs":[]},{"cell_type":"code","source":"!pip install faiss-gpu","metadata":{},"execution_count":null,"outputs":[]},{"cell_type":"code","source":"import faiss\n\n\nindex = faiss.IndexIDMap(faiss.IndexFlatIP(10752))\n\nindex.add_with_ids(np.array([t.to('cpu').numpy() for t in concatenated_gallery_vectors]),np.array(gallery_list_labels))\n\n\ndef search(query: str, k=1):\n    encoded_query = query.unsqueeze(dim=0).to('cpu').numpy()\n    top_k = index.search(encoded_query, k)\n    return top_k","metadata":{"execution":{"iopub.status.busy":"2024-05-12T02:53:36.162907Z","iopub.execute_input":"2024-05-12T02:53:36.163825Z","iopub.status.idle":"2024-05-12T02:53:38.584981Z","shell.execute_reply.started":"2024-05-12T02:53:36.163792Z","shell.execute_reply":"2024-05-12T02:53:38.584123Z"},"trusted":true},"execution_count":44,"outputs":[]},{"cell_type":"code","source":"rank1_score = 0\nrank5_score = 0\nrank10_score = 0\nap = 0\ncount = 0\nfor query, label in zip(concatenated_query_vectors, query_list_labels):\n    count += 1\n    label = label\n    output = search(query, k=10)\n    rank1_score += rank1(label, output)\n    rank5_score += rank5(label, output)\n    rank10_score += rank10(label, output)\n    print(\"Correct: {}, Total: {}, Incorrect: {}\".format(rank1_score, count, count-rank1_score), end=\"\\r\")\n    ap += calc_map(label, output)\n\nprint(\"Rank1: {}, Rank5: {}, Rank10: {}, mAP: {}\".format(rank1_score/len(query_feature),\n                                                         rank5_score/len(query_feature),\n                                                         rank10_score/len(query_feature), ap/len(query_feature)))","metadata":{"execution":{"iopub.status.busy":"2024-05-12T02:53:57.202880Z","iopub.execute_input":"2024-05-12T02:53:57.203247Z","iopub.status.idle":"2024-05-12T03:09:45.283998Z","shell.execute_reply.started":"2024-05-12T02:53:57.203220Z","shell.execute_reply":"2024-05-12T03:09:45.282922Z"},"trusted":true},"execution_count":47,"outputs":[{"name":"stdout","text":"Rank1: 0.9824821852731591, Rank5: 0.9937648456057007, Rank10: 0.9955463182897862, mAP: 0.922817584030842\n","output_type":"stream"}]},{"cell_type":"markdown","source":"# 5. Visulization","metadata":{}},{"cell_type":"code","source":"","metadata":{},"execution_count":null,"outputs":[]},{"cell_type":"code","source":"","metadata":{},"execution_count":null,"outputs":[]}]}
>>>>>>> 0765426 (first)
